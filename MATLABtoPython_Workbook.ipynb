{
 "cells": [
  {
   "cell_type": "markdown",
   "id": "40db8e4b",
   "metadata": {},
   "source": [
    "# Easing the transition from MATLAB to Python with AI Chatbots"
   ]
  },
  {
   "cell_type": "markdown",
   "id": "15c24578",
   "metadata": {},
   "source": [
    "## <a id = \"contents\"></a>Contents\n",
    "* <a href='#summary'>Workshop Summary</a>\n",
    "    - <a href='#presenters'>Presenters</a> \n",
    "    - <a href='#objectives'>Learning Objectives</a> \n",
    "    - <a href='#knowledge'>Assumed Knowledge</a> \n",
    "* <a href='#intro'>Introduction</a>\n",
    "* <a href ='#understand'>Code Comprehension</a>\n",
    "* <a href='#convert'>Language Conversion</a>\n",
    "* <a href='#program'>Programming Assistant</a>\n",
    "* <a href='#optimize'>Code Optimization</a>"
   ]
  },
  {
   "cell_type": "markdown",
   "id": "8e0c7973",
   "metadata": {},
   "source": [
    "***"
   ]
  },
  {
   "cell_type": "markdown",
   "id": "02197a70",
   "metadata": {},
   "source": [
    "## <a id = \"summary\"></a>Workshop Summary\n",
    "\n",
    "In this workshop, we will delve into the dynamic realm of AI chatbots, including ChatGPT, Bard, and Co-pilot, discovering their transformative potential in comprehending, crafting, and troubleshooting code. With an emphasis on leveraging these tools to facilitate transitions between coding languages, particularly from MATLAB to Python, we will explore the benefits of Python's open-source nature, fostering accessibility, collaboration, and a vibrant community-driven ecosystem. The session will illuminate how AI chatbots streamline the learning curve, offering real-time guidance, suggestions, and insights, thereby enhancing coding proficiency and empowering developers to tackle complex challenges with greater agility and confidence.\n",
    "\n",
    "### <a id = \"presenters\"></a>Presenters\n",
    "\n",
    "Kristen Scotti\\\n",
    "Open Science Postdoc\\\n",
    "Office: 4416, Sorrells Library  \\\n",
    "[kscotti@andrew.cmu.edu](mailto:kscotti@andrew.cmu.edu) \n",
    "\n",
    "Sahithi Maddula\\\n",
    "Data & Code Support Consultant\\\n",
    "[venkatas@andrew.cmu.edu](mailto:venkatas@andrew.cmu.edu)\n",
    "\n",
    "\n",
    "### <a id = \"objectives\"></a>Learning Objectives\n",
    "\n",
    "Workshop attendees will be able to:\n",
    "1. Understand the capabilities of AI chatbots such as ChatGPT, Bard, and Co-pilot in comprehending and interpreting code structures, logic, and syntax.\n",
    "2. Learn techniques for utilizing AI chatbots to efficiently convert code from one programming language to another, with a focus on transitioning from MATLAB to Python.\n",
    "3. Gain experience using AI chatbots as a programmer's assistant, including accessing real-time guidance, suggestions, and insights to enhance code quality and efficiency.\n",
    "4. Explore the advantages of Python's open-source nature and its impact on accessibility, collaboration, and community-driven development, particularly in contrast to proprietary languages like MATLAB.\n",
    "5. Gain hands-on experience in leveraging AI chatbots to streamline the coding process, troubleshoot errors, and tackle complex challenges with agility and confidence.\n",
    "\n",
    "### <a id = \"knowledge\"></a>Assumed Knowledge\n",
    "\n",
    "Attendees are assumed to have some familiarity with MATLAB, although it is not a requirement for participation. The workshop will not cover MATLAB basics, so a basic understanding of MATLAB syntax and concepts is beneficial. Additionally, while the workshop will focus on utilizing AI chatbots to transition from MATLAB to Python and enhance coding proficiency, it will not provide in-depth Python instruction. Instead, participants will gain a general understanding of Python syntax and programming concepts. This workshop will primarily focus on leveraging AI chatbots to interpret and craft code, troubleshoot errors, and facilitate language transitions, rather than on building foundational Python skills. The Libraries offers a number of [workshops](https://cmu.libcal.com/calendar/events/?cid=9148&t=d&d=0000-00-00&cal=9148&inc=0)  for enhancing your foundational Python skills. "
   ]
  },
  {
   "cell_type": "markdown",
   "id": "e7f52b47",
   "metadata": {},
   "source": [
    "## <a id = \"intro\"></a>Introduction\n",
    "\n",
    "### Etherpad\n",
    "\n",
    "Etherpad <a href = \"https://etherpad.wikimedia.org/p/ChatbotCoding\" target = \"_blank\">LINK</a>\n",
    "\n",
    "### Using AI Chatbots to Code\n",
    "\n",
    "* General purpose:\n",
    "    - <a href = \"https://chat.openai.com/\" target = \"_blank\">ChatGPT</a> (OpenAI)\n",
    "* More code-focused (training data is specifically curated towards code understanding, completion, and problem-solving):\n",
    "    - <a href = \"https://gemini.google.com/app\" target = \"_blank\">Gemini</a> (Google)\n",
    "    - <a href = \"https://copilot.microsoft.com/\" target = \"_blank\">Copilot</a> (GitHub and OpenAI)\n",
    "    \n",
    "#### How to cite\n",
    "* [Guidance](https://apastyle.apa.org/blog/how-to-cite-chatgpt)\n",
    "\n",
    "### Library Imports"
   ]
  },
  {
   "cell_type": "code",
   "execution_count": 4,
   "id": "a07c6cc3",
   "metadata": {},
   "outputs": [],
   "source": [
    "# !pip install numpy\n",
    "# !pip install pandas\n",
    "# !pip install matplotlib\n",
    "# !pip install scipy"
   ]
  },
  {
   "cell_type": "code",
   "execution_count": 5,
   "id": "ee5d7570",
   "metadata": {},
   "outputs": [],
   "source": [
    "import numpy as np # import NumPy library and alias it as np\n",
    "import pandas as pd\n",
    "import matplotlib.pyplot as plt # import the Matplotlib's pyplot (plotting) module and alias it as plt"
   ]
  },
  {
   "cell_type": "markdown",
   "id": "7d13e316",
   "metadata": {},
   "source": [
    "***"
   ]
  },
  {
   "cell_type": "markdown",
   "id": "1279a088",
   "metadata": {},
   "source": [
    "## <a id = \"understand\"></a>Code Comprehension\n",
    "\n",
    "### Scenario: Reusing Code\n",
    "\n",
    "You're need to write Python code that discerns whether an integer is even or odd and determines its positivity or negativity. While browsing Stack Overflow, you stumble upon a promising code snippet. It appears to function correctly, but you don't understand how it works. How might you leverage an AI chatbot to help you understand the code? \\\n",
    "\\\n",
    "Let's give it a shot!\\\n",
    "\\\n",
    "Here is the code snippet you obtained from Stack Overflow:"
   ]
  },
  {
   "cell_type": "code",
   "execution_count": 6,
   "id": "7f627f6a",
   "metadata": {},
   "outputs": [],
   "source": [
    "def numberProps(number):\n",
    "    if number == 0:\n",
    "         print(f\"{number} is even and neither positive nor negative (it is zero)\")\n",
    "                \n",
    "    elif number % 2 == 0:\n",
    "        if number < 0:\n",
    "            print(f\"{number} is even and negative\")\n",
    "        else: \n",
    "            print(f\"{number} is even and positive\")\n",
    "            \n",
    "    else:\n",
    "        if number < 0:\n",
    "            print(f\"{number} is odd and negative\")\n",
    "        else: \n",
    "            print(f\"{number} is odd and positive\")"
   ]
  },
  {
   "cell_type": "code",
   "execution_count": 7,
   "id": "13909955",
   "metadata": {},
   "outputs": [
    {
     "name": "stdout",
     "output_type": "stream",
     "text": [
      "2 is even and positive\n"
     ]
    }
   ],
   "source": [
    "numberProps(2)"
   ]
  },
  {
   "cell_type": "markdown",
   "id": "87fe1217",
   "metadata": {},
   "source": [
    "#### Task: Explain Code\n",
    "\n",
    "**APPROACH**:\n",
    "\n",
    "Chatbot input: \"Explain each line of code\" (paste code snippet)\n",
    "\n",
    "**ChatGPT OUTPUT**:\n",
    "\n",
    "*Paste output here*"
   ]
  },
  {
   "cell_type": "markdown",
   "id": "76df21c1",
   "metadata": {},
   "source": [
    "#### Comment Code\n",
    "\n",
    "**APPROACH**:\n",
    "\n",
    "Chatbot input: \"Comment Code\" (paste code snippet)\n",
    "\n",
    "**ChatGPT OUTPUT**:\n",
    "\n",
    "*Paste output here*"
   ]
  },
  {
   "cell_type": "markdown",
   "id": "8fc407ef",
   "metadata": {},
   "source": [
    "#### Expanding the Functionality of the Code\n",
    "\n",
    "**APPROACH**:\n",
    "\n",
    "Chatbot input: \"change function to take input of an array and store output in table with columns = input (number from array), positive, negative, zero, even, and odd. For each number in the array, use boolean notation in the results output to say whether the number is positive, negative, zero, even, and/or odd.\"\n",
    "\n",
    "**ChatGPT OUTPUT**:\n",
    "\n",
    "*Paste output here*"
   ]
  },
  {
   "cell_type": "code",
   "execution_count": 8,
   "id": "2a3e53f2",
   "metadata": {},
   "outputs": [],
   "source": [
    "# OUTPUT from chatbot -- CODE CELL\n",
    "\n"
   ]
  },
  {
   "cell_type": "code",
   "execution_count": null,
   "id": "1665ad66",
   "metadata": {},
   "outputs": [],
   "source": []
  },
  {
   "cell_type": "markdown",
   "id": "64447480",
   "metadata": {},
   "source": [
    "***"
   ]
  },
  {
   "cell_type": "markdown",
   "id": "de4c981b",
   "metadata": {},
   "source": [
    "## <a id = \"convert\"></a>Language Conversion\n",
    "\n",
    "In this workshop, we'll focus on translating MATLAB code into Python. However, these techniques are versatile and can be applied to converting code from various other languages as well. Feel free to utilize your preferred AI chatbot to assist in converting the MATLAB code provided below into Python."
   ]
  },
  {
   "cell_type": "markdown",
   "id": "5e0bf7cb",
   "metadata": {},
   "source": [
    "**MATLAB Code**\n",
    "\n",
    "```\n",
    "x = linspace(0,2*pi,100);\n",
    "y = sin(x);\n",
    "plot(x,y,':')\n",
    "\n",
    "hold on \n",
    "y2 = cos(x);\n",
    "plot(x,y2,'--ro')\n",
    "hold off\n",
    "\n",
    "xlabel('x')\n",
    "ylabel('sin(x)')\n",
    "xlim([0, 6]);\n",
    "ylim([-1, 1]);\n",
    "title('Plot of the Sine Function')\n",
    "```\n",
    "\n",
    "OUTPUT:\n",
    "![matlabDoubleWell](https://raw.githubusercontent.com/KristenScotti//Workshops/main/img/matlabSinePlot.png)"
   ]
  },
  {
   "cell_type": "code",
   "execution_count": 9,
   "id": "79c3b96f",
   "metadata": {},
   "outputs": [],
   "source": [
    "# OUTPUT from chatbot -- CODE CELL\n",
    "\n"
   ]
  },
  {
   "cell_type": "markdown",
   "id": "823d4a0c",
   "metadata": {},
   "source": [
    "## <a id = \"program\"></a>Programming Assistant\n",
    "\n",
    "* write new code\n",
    "* debugging\n",
    "* optimizing code\n",
    "\n",
    "find common tangent of double-well function\\\n",
    "Specifically, analyze the phase behavior of a binary mixture using Flory-Huggins theory by determining equilibrium volume fractions and finding the common tangent of the free energy curve.\n",
    "\n",
    "MATLAB CODE: \n",
    "```\n",
    "% Define parameters for the calculation\n",
    "na = 150;\n",
    "nb = 125;\n",
    "chi = 0.02;\n",
    "\n",
    "% Create an array 'phi' for volume fractions ranging from 0.001 to 0.999 with 1000 evenly spaced points\n",
    "phi = linspace(0.001, 0.999, 1000); \n",
    "\n",
    "% Free energy of mixing function\n",
    "% function fv(phi) calculates the free energy of mixing as a function of the volume fraction phi\n",
    "fv = @(phi) phi.*log(phi)/nb + (1-phi).*log(1-phi)/na + chi.*phi.*(1-phi);\n",
    "\n",
    "% Chemical potentials of components A and B\n",
    "% function mua(phi) calculates the chemical potential of component A as a function of volume fraction phi\n",
    "% function mub(phi) calculates the chemical potential of component B as a function of volume fraction phi\n",
    "mua = @(phi) log(1-phi) + phi*(1-na/nb) + chi*na*phi.^2; \n",
    "mub = @(phi) log(phi) + (1-phi)*(1-nb/na) + chi*nb*(1-phi)^2;\n",
    "\n",
    "% Function to solve for common tangent\n",
    "% function ftosolve(phi) computes the difference in chemical potentials between two volume fractions, representing the equation of the common tangent\n",
    "ftosolve = @(phi) [mua(phi(1))-mua(phi(2)); mub(phi(1))-mub(phi(2))];\n",
    "\n",
    "% Define an 'initial guess' for the equilibrium volume fractions as an array\n",
    "phiguess = [0.2; 0.8];\n",
    "\n",
    "% Use the 'fsolve' function to find the equilibrium volume fractions by solving the system of equations defined by ftosolve\n",
    "[phicalc, ~] = fsolve(ftosolve, phiguess);\n",
    "\n",
    "% Calculate and plot the tangent line\n",
    "% Calculate the slope of the tangent line at the equilibrium points:\n",
    "slope = (fv(phicalc(2))-fv(phicalc(1)))/(phicalc(2)-phicalc(1));\n",
    "\n",
    "% Calculate the equation of the tangent line\n",
    "tangentline = fv(phicalc(1)) + slope * (phi - phicalc(1));\n",
    "\n",
    "% Plot free energy function and the tangent line\n",
    "plot(phi, fv(phi), 'LineWidth', 2);\n",
    "hold on; % put hold on current plot to allow subsequent plots to be added to it\n",
    "plot(phi, tangentline, 'r', 'LineWidth', 2);\n",
    "hold off; % end hold on current plot\n",
    "\n",
    "% Set line width to 2\n",
    "xlabel('\\phi_{b}');\n",
    "ylabel('G_{v}V_{0}/RT');\n",
    "legend('Free Energy', 'Common Tangent');\n",
    "\n",
    "% Print equation of the common tangent\n",
    "disp('Equation for the common tangent:');\n",
    "disp(['G_{v}V_{0}/RT = ' num2str(slope) ' * (\\phi_{b} - ' num2str(phicalc(1)) ') + ' num2str(fv(phicalc(1)))]);\n",
    "```\n",
    "\n",
    "OUTPUT:\\\n",
    "![matlabDoubleWell](https://raw.githubusercontent.com/KristenScotti//Workshops/main/img/matlabDoubleWell.PNG)"
   ]
  },
  {
   "cell_type": "code",
   "execution_count": 10,
   "id": "f40b571c",
   "metadata": {},
   "outputs": [],
   "source": [
    "# OUTPUT from chatbot -- CODE CELL\n",
    "\n"
   ]
  },
  {
   "cell_type": "markdown",
   "id": "e6b310bc",
   "metadata": {},
   "source": [
    "## <a id = \"optimize\"></a>Code Optimization"
   ]
  },
  {
   "cell_type": "code",
   "execution_count": 11,
   "id": "33a53467",
   "metadata": {},
   "outputs": [
    {
     "name": "stdout",
     "output_type": "stream",
     "text": [
      "29 is a prime number.\n"
     ]
    }
   ],
   "source": [
    "def is_prime(number):\n",
    "    if number <= 1:\n",
    "        return False\n",
    "    elif number <= 3:\n",
    "        return True\n",
    "    elif number % 2 == 0 or number % 3 == 0:\n",
    "        return False\n",
    "    else:\n",
    "        i = 5\n",
    "        while i * i <= number:\n",
    "            if number % i == 0 or number % (i + 2) == 0:\n",
    "                return False\n",
    "            i += 6\n",
    "        return True\n",
    "\n",
    "number = 29\n",
    "if is_prime(number):\n",
    "    print(number, \"is a prime number.\")\n",
    "else:\n",
    "    print(number, \"is not a prime number.\")"
   ]
  },
  {
   "cell_type": "code",
   "execution_count": 12,
   "id": "19ddc444",
   "metadata": {},
   "outputs": [
    {
     "data": {
      "text/plain": [
       "True"
      ]
     },
     "execution_count": 12,
     "metadata": {},
     "output_type": "execute_result"
    }
   ],
   "source": [
    "is_prime(2)"
   ]
  },
  {
   "cell_type": "code",
   "execution_count": 13,
   "id": "f3c65a66",
   "metadata": {},
   "outputs": [],
   "source": [
    "# OUTPUT from chatbot -- CODE CELL\n",
    "\n"
   ]
  },
  {
   "cell_type": "code",
   "execution_count": null,
   "id": "782c2338",
   "metadata": {},
   "outputs": [],
   "source": [
    "import timeit\n",
    "\n",
    "# Measure execution time of original function\n",
    "time_originalFun = timeit.timeit(lambda: originalFun(numTest))\n",
    "\n",
    "# Measure execution time of optimized\n",
    "time_optimizedFun = timeit.timeit(lambda: optimizedFun(numTest))\n",
    "\n",
    "# Compare and print results\n",
    "print(f\"Original time: {time_originalFun:.4f} seconds\")\n",
    "print(f\"Optimized time: {time_optimizedFun:.4f} seconds\")"
   ]
  },
  {
   "cell_type": "code",
   "execution_count": null,
   "id": "3c2bda9e",
   "metadata": {},
   "outputs": [],
   "source": []
  }
 ],
 "metadata": {
  "kernelspec": {
   "display_name": "Python 3 (ipykernel)",
   "language": "python",
   "name": "python3"
  },
  "language_info": {
   "codemirror_mode": {
    "name": "ipython",
    "version": 3
   },
   "file_extension": ".py",
   "mimetype": "text/x-python",
   "name": "python",
   "nbconvert_exporter": "python",
   "pygments_lexer": "ipython3",
   "version": "3.9.12"
  }
 },
 "nbformat": 4,
 "nbformat_minor": 5
}
