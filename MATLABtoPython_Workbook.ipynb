{
 "cells": [
  {
   "cell_type": "markdown",
   "id": "40db8e4b",
   "metadata": {},
   "source": [
    "# Easing the transition from MATLAB to Python with AI Chatbots"
   ]
  },
  {
   "cell_type": "markdown",
   "id": "15c24578",
   "metadata": {},
   "source": [
    "## <a id = \"contents\"></a>Contents\n",
    "* <a href='#summary'>Workshop Summary</a>\n",
    "    - <a href='#presenters'>Presenters</a> \n",
    "    - <a href='#objectives'>Learning Objectives</a> \n",
    "    - <a href='#knowledge'>Assumed Knowledge</a> \n",
    "* <a href='#intro'>Introduction</a>\n",
    "* <a href ='#generation'>Code Generation</a>\n",
    "* <a href ='#understand'>Code Comprehension</a>\n",
    "* <a href='#convert'>Language Conversion</a>\n",
    "* <a href='#program'>Programming Assistant</a>\n",
    "* <a href='#optimize'>Code Optimization</a>"
   ]
  },
  {
   "cell_type": "markdown",
   "id": "8e0c7973",
   "metadata": {},
   "source": [
    "***"
   ]
  },
  {
   "cell_type": "markdown",
   "id": "02197a70",
   "metadata": {},
   "source": [
    "## <a id = \"summary\"></a>Workshop Summary\n",
    "\n",
    "In this workshop, we will delve into the dynamic realm of AI chatbots, including ChatGPT, Bard, and Co-pilot, discovering their transformative potential in comprehending, crafting, and troubleshooting code. With an emphasis on leveraging these tools to facilitate transitions between coding languages, particularly from MATLAB to Python, we will explore the benefits of Python's open-source nature, fostering accessibility, collaboration, and a vibrant community-driven ecosystem. The session will illuminate how AI chatbots streamline the learning curve, offering real-time guidance, suggestions, and insights, thereby enhancing coding proficiency and empowering developers to tackle complex challenges with greater agility and confidence.\n",
    "\n",
    "### <a id = \"presenters\"></a>Presenters\n",
    "\n",
    "Kristen Scotti\\\n",
    "Open Science Postdoc\\\n",
    "Office: 4416, Sorrells Library  \\\n",
    "[kscotti@andrew.cmu.edu](mailto:kscotti@andrew.cmu.edu) \n",
    "\n",
    "Sahithi Maddula\\\n",
    "Data & Code Support Consultant\\\n",
    "[venkatas@andrew.cmu.edu](mailto:venkatas@andrew.cmu.edu)\n",
    "\n",
    "\n",
    "### <a id = \"objectives\"></a>Learning Objectives\n",
    "\n",
    "Workshop attendees will be able to:\n",
    "1. Understand the capabilities of AI chatbots such as ChatGPT, Bard, and Co-pilot in comprehending and interpreting code structures, logic, and syntax.\n",
    "2. Learn techniques for utilizing AI chatbots to efficiently convert code from one programming language to another, with a focus on transitioning from MATLAB to Python.\n",
    "3. Gain experience using AI chatbots as a programmer's assistant, including accessing real-time guidance, suggestions, and insights to enhance code quality and efficiency.\n",
    "4. Explore the advantages of Python's open-source nature and its impact on accessibility, collaboration, and community-driven development, particularly in contrast to proprietary languages like MATLAB.\n",
    "5. Gain hands-on experience in leveraging AI chatbots to streamline the coding process, troubleshoot errors, and tackle complex challenges with agility and confidence.\n",
    "\n",
    "### <a id = \"knowledge\"></a>Assumed Knowledge\n",
    "\n",
    "Attendees are assumed to have some familiarity with MATLAB, although it is not a requirement for participation. The workshop will not cover MATLAB basics, so a basic understanding of MATLAB syntax and concepts is beneficial. Additionally, while the workshop will focus on utilizing AI chatbots to transition from MATLAB to Python and enhance coding proficiency, it will not provide in-depth Python instruction. Instead, participants will gain a general understanding of Python syntax and programming concepts. This workshop will primarily focus on leveraging AI chatbots to interpret and craft code, troubleshoot errors, and facilitate language transitions, rather than on building foundational Python skills. The Libraries offers a number of [workshops](https://cmu.libcal.com/calendar/events/?cid=9148&t=d&d=0000-00-00&cal=9148&inc=0)  for enhancing your foundational Python skills. "
   ]
  },
  {
   "cell_type": "markdown",
   "id": "e7f52b47",
   "metadata": {},
   "source": [
    "## <a id = \"intro\"></a>Introduction\n",
    "\n",
    "### Etherpad\n",
    "\n",
    "Etherpad <a href = \"https://etherpad.wikimedia.org/p/ChatbotCoding\" target = \"_blank\">LINK</a>\n",
    "\n",
    "### Using AI Chatbots to Code\n",
    "\n",
    "* General purpose:\n",
    "    - <a href = \"https://chat.openai.com/\" target = \"_blank\">ChatGPT</a> (OpenAI)\n",
    "* More code-focused (training data is specifically curated towards code understanding, completion, and problem-solving):\n",
    "    - <a href = \"https://gemini.google.com/app\" target = \"_blank\">Gemini</a> (Google)\n",
    "    - <a href = \"https://copilot.microsoft.com/\" target = \"_blank\">Copilot</a> (GitHub and OpenAI)\n",
    "    \n",
    "#### How to cite\n",
    "* [Guidance](https://apastyle.apa.org/blog/how-to-cite-chatgpt)\n",
    "\n",
    "### Library Imports"
   ]
  },
  {
   "cell_type": "code",
   "execution_count": 4,
   "id": "a07c6cc3",
   "metadata": {},
   "outputs": [],
   "source": [
    "# !pip install numpy\n",
    "# !pip install pandas\n",
    "# !pip install matplotlib\n",
    "# !pip install scipy"
   ]
  },
  {
   "cell_type": "code",
   "execution_count": 6,
   "id": "ee5d7570",
   "metadata": {},
   "outputs": [],
   "source": [
    "import numpy as np # import NumPy library and alias it as np\n",
    "import pandas as pd\n",
    "import matplotlib.pyplot as plt # import the Matplotlib's pyplot (plotting) module and alias it as plt"
   ]
  },
  {
   "cell_type": "markdown",
   "id": "7d13e316",
   "metadata": {},
   "source": [
    "***"
   ]
  },
  {
   "cell_type": "markdown",
   "id": "be994e4b-ad46-4aec-9b75-1b6e962e9156",
   "metadata": {},
   "source": [
    "## <a id = \"understand\"></a>Code Comprehension"
   ]
  },
  {
   "cell_type": "markdown",
   "id": "1279a088",
   "metadata": {},
   "source": [
    "### Scenario: Let's use ChatGPT to help us understand Python syntax\n",
    "\n",
    "Ask ChatGPT to give you a table showing common syntax elements\n",
    "\n",
    "Prompt: Could you create a Markdown table outlining the key syntax elements in Python? It should cover variables, conditionals, loops, functions, classes, imports, exception handling, Boolean operators, math operators, comparison operators, and comprehensions.\n"
   ]
  },
  {
   "cell_type": "markdown",
   "id": "522163ed-c2d7-478f-8f90-acd5d7c0805c",
   "metadata": {},
   "source": [
    "Paste chatGPT output here:\n",
    "\n"
   ]
  },
  {
   "cell_type": "markdown",
   "id": "6f982948-30e1-4dbe-a080-1271d4cd65a0",
   "metadata": {},
   "source": [
    "### Scenario: Using Chat-GPT to generate Python code to create a plot\n",
    "\n",
    "How much detail should you give ChatGPT? \n",
    "\n",
    "Paste your chatGPT output in the cell below and run."
   ]
  },
  {
   "cell_type": "code",
   "execution_count": null,
   "id": "98af5f97-4d60-40e2-a1f8-db50e07f57f0",
   "metadata": {},
   "outputs": [],
   "source": []
  },
  {
   "cell_type": "markdown",
   "id": "6c694796-b6f9-4bb1-b00b-65e7240a58d0",
   "metadata": {},
   "source": [
    "### Scenario: Reusing Code\n",
    "\n",
    "You need to write Python code that discerns whether an integer is even or odd and determines its positivity or negativity. While browsing Stack Overflow, you stumble upon a promising code snippet. It appears to function correctly, but you don't understand how it works. How might you leverage an AI chatbot to help you understand the code? \\\n",
    "\\\n",
    "Let's give it a shot!\\\n",
    "\\\n",
    "Here is the code snippet you obtained from Stack Overflow:"
   ]
  },
  {
   "cell_type": "code",
   "execution_count": 6,
   "id": "7f627f6a",
   "metadata": {},
   "outputs": [],
   "source": [
    "def numberProps(number):\n",
    "    if number == 0:\n",
    "         print(f\"{number} is even and neither positive nor negative (it is zero)\")\n",
    "                \n",
    "    elif number % 2 == 0:\n",
    "        if number < 0:\n",
    "            print(f\"{number} is even and negative\")\n",
    "        else: \n",
    "            print(f\"{number} is even and positive\")\n",
    "            \n",
    "    else:\n",
    "        if number < 0:\n",
    "            print(f\"{number} is odd and negative\")\n",
    "        else: \n",
    "            print(f\"{number} is odd and positive\")"
   ]
  },
  {
   "cell_type": "code",
   "execution_count": 7,
   "id": "13909955",
   "metadata": {},
   "outputs": [
    {
     "name": "stdout",
     "output_type": "stream",
     "text": [
      "2 is even and positive\n"
     ]
    }
   ],
   "source": [
    "numberProps(2)"
   ]
  },
  {
   "cell_type": "markdown",
   "id": "87fe1217",
   "metadata": {},
   "source": [
    "#### Task: Explain Code\n",
    "\n",
    "**APPROACH**:\n",
    "\n",
    "Ask your favorite chatbot to explain your code\n",
    "\n",
    "**OUTPUT**:\n",
    "\n",
    "*Paste output here*"
   ]
  },
  {
   "cell_type": "markdown",
   "id": "76df21c1",
   "metadata": {},
   "source": [
    "#### Comment Code\n",
    "\n",
    "**APPROACH**:\n",
    "\n",
    "Ask your favorite chatbot to comment your code\n",
    "\n",
    "**OUTPUT**:\n",
    "\n",
    "*Paste output here*"
   ]
  },
  {
   "cell_type": "markdown",
   "id": "8fc407ef",
   "metadata": {},
   "source": [
    "#### Expanding the Functionality of the Code\n",
    "\n",
    "**APPROACH**:\n",
    "\n",
    "We want to change the function to take an input as an array and store the output in a table with columns = input (number from array), positive, negative, zero, even, and odd. \n",
    "Let's ask for use of boolean notation in the results output to indicate whether the number is positive, negative, zero, even, and/or odd.\n",
    "\n",
    "**OUTPUT**:\n",
    "\n",
    "*Paste output here*"
   ]
  },
  {
   "cell_type": "code",
   "execution_count": 8,
   "id": "2a3e53f2",
   "metadata": {},
   "outputs": [],
   "source": [
    "# OUTPUT from chatbot -- CODE CELL\n",
    "\n"
   ]
  },
  {
   "cell_type": "code",
   "execution_count": null,
   "id": "1665ad66",
   "metadata": {},
   "outputs": [],
   "source": [
    "# test your code here \n",
    "\n"
   ]
  },
  {
   "cell_type": "markdown",
   "id": "64447480",
   "metadata": {},
   "source": [
    "***"
   ]
  },
  {
   "cell_type": "markdown",
   "id": "de4c981b",
   "metadata": {},
   "source": [
    "## <a id = \"convert\"></a>Language Conversion\n",
    "\n",
    "In this workshop, we'll focus on translating MATLAB code into Python. However, these techniques are versatile and can be applied to converting code from various other languages as well. Feel free to utilize your preferred AI chatbot to assist in converting the MATLAB code provided below into Python."
   ]
  },
  {
   "cell_type": "markdown",
   "id": "5e0bf7cb",
   "metadata": {},
   "source": [
    "**MATLAB Code**\n",
    "\n",
    "```\n",
    "x = linspace(0,2*pi,100);\n",
    "y = sin(x);\n",
    "plot(x,y,':')\n",
    "\n",
    "hold on \n",
    "y2 = cos(x);\n",
    "plot(x,y2,'--ro')\n",
    "hold off\n",
    "\n",
    "xlabel('x')\n",
    "ylabel('sin(x)')\n",
    "xlim([0, 6]);\n",
    "ylim([-1, 1]);\n",
    "title('Plot of the Sine Function')\n",
    "```\n",
    "\n",
    "OUTPUT:\n",
    "![matlabDoubleWell](https://raw.githubusercontent.com/KristenScotti//Workshops/main/img/matlabSinePlot.png)"
   ]
  },
  {
   "cell_type": "code",
   "execution_count": 9,
   "id": "79c3b96f",
   "metadata": {},
   "outputs": [],
   "source": [
    "# OUTPUT from chatbot -- CODE CELL\n",
    "\n"
   ]
  },
  {
   "cell_type": "markdown",
   "id": "823d4a0c",
   "metadata": {},
   "source": [
    "## <a id = \"program\"></a>Programming Assistant\n",
    "\n",
    "* write new code\n",
    "* debugging\n",
    "* optimizing code\n",
    "\n",
    "find common tangent of double-well function\\\n",
    "Specifically, analyze the phase behavior of a binary mixture using Flory-Huggins theory by determining equilibrium volume fractions and finding the common tangent of the free energy curve.\n",
    "\n",
    "MATLAB CODE: \n",
    "```\n",
    "% Define parameters for the calculation\n",
    "na = 150;\n",
    "nb = 125;\n",
    "chi = 0.02;\n",
    "\n",
    "% Create an array 'phi' for volume fractions ranging from 0.001 to 0.999 with 1000 evenly spaced points\n",
    "phi = linspace(0.001, 0.999, 1000); \n",
    "\n",
    "% Free energy of mixing function\n",
    "% function fv(phi) calculates the free energy of mixing as a function of the volume fraction phi\n",
    "fv = @(phi) phi.*log(phi)/nb + (1-phi).*log(1-phi)/na + chi.*phi.*(1-phi);\n",
    "\n",
    "% Chemical potentials of components A and B\n",
    "% function mua(phi) calculates the chemical potential of component A as a function of volume fraction phi\n",
    "% function mub(phi) calculates the chemical potential of component B as a function of volume fraction phi\n",
    "mua = @(phi) log(1-phi) + phi*(1-na/nb) + chi*na*phi.^2; \n",
    "mub = @(phi) log(phi) + (1-phi)*(1-nb/na) + chi*nb*(1-phi)^2;\n",
    "\n",
    "% Function to solve for common tangent\n",
    "% function ftosolve(phi) computes the difference in chemical potentials between two volume fractions, representing the equation of the common tangent\n",
    "ftosolve = @(phi) [mua(phi(1))-mua(phi(2)); mub(phi(1))-mub(phi(2))];\n",
    "\n",
    "% Define an 'initial guess' for the equilibrium volume fractions as an array\n",
    "phiguess = [0.2; 0.8];\n",
    "\n",
    "% Use the 'fsolve' function to find the equilibrium volume fractions by solving the system of equations defined by ftosolve\n",
    "[phicalc, ~] = fsolve(ftosolve, phiguess);\n",
    "\n",
    "% Calculate and plot the tangent line\n",
    "% Calculate the slope of the tangent line at the equilibrium points:\n",
    "slope = (fv(phicalc(2))-fv(phicalc(1)))/(phicalc(2)-phicalc(1));\n",
    "\n",
    "% Calculate the equation of the tangent line\n",
    "tangentline = fv(phicalc(1)) + slope * (phi - phicalc(1));\n",
    "\n",
    "% Plot free energy function and the tangent line\n",
    "plot(phi, fv(phi), 'LineWidth', 2);\n",
    "hold on; % put hold on current plot to allow subsequent plots to be added to it\n",
    "plot(phi, tangentline, 'r', 'LineWidth', 2);\n",
    "hold off; % end hold on current plot\n",
    "\n",
    "% Set line width to 2\n",
    "xlabel('\\phi_{b}');\n",
    "ylabel('G_{v}V_{0}/RT');\n",
    "legend('Free Energy', 'Common Tangent');\n",
    "\n",
    "% Print equation of the common tangent\n",
    "disp('Equation for the common tangent:');\n",
    "disp(['G_{v}V_{0}/RT = ' num2str(slope) ' * (\\phi_{b} - ' num2str(phicalc(1)) ') + ' num2str(fv(phicalc(1)))]);\n",
    "```\n",
    "\n",
    "OUTPUT:\\\n",
    "![matlabDoubleWell](https://raw.githubusercontent.com/KristenScotti//Workshops/main/img/matlabDoubleWell.PNG)"
   ]
  },
  {
   "cell_type": "code",
   "execution_count": 4,
   "id": "f40b571c",
   "metadata": {},
   "outputs": [],
   "source": [
    "# OUTPUT from chatbot -- CODE CELL\n",
    "\n"
   ]
  },
  {
   "cell_type": "code",
   "execution_count": 7,
   "id": "8927e027-03c2-45bc-b46f-9fe982334d4c",
   "metadata": {},
   "outputs": [
    {
     "data": {
      "image/png": "[encoded data removed]",
      "text/plain": [
       "<Figure size 640x480 with 1 Axes>"
      ]
     },
     "metadata": {},
     "output_type": "display_data"
    },
    {
     "name": "stdout",
     "output_type": "stream",
     "text": [
      "Equation for the common tangent:\n",
      "G_v V_0 / RT = 0.000228605 * (ϕ_b - 0.114554295) + -0.000675192\n"
     ]
    }
   ],
   "source": [
    "# Solution\n",
    "\n",
    "# Import the fsolve function from the scipy.optimize module --> used for solving systems of equations\n",
    "from scipy.optimize import fsolve \n",
    "\n",
    "# Define parameters for the calculation\n",
    "na = 150\n",
    "nb = 125\n",
    "chi = 0.02\n",
    "\n",
    "# Create an array 'phi' for volume fractions ranging from 0.001 to 0.999 with 1000 evenly spaced points\n",
    "phi = np.linspace(0.001, 0.999, 1000)\n",
    "\n",
    "# Free energy of mixing function\n",
    "# function fv(phi) calculates the free energy of mixing as a function of the volume fraction phi\n",
    "def fv(phi):\n",
    "    return phi*np.log(phi)/nb + (1-phi)*np.log(1-phi)/na + chi*phi*(1-phi)\n",
    "\n",
    "# Chemical potentials of components A and B\n",
    "# function mu(phi)  calculates the chemical potentials of components A and B as a function of volume fraction phi\n",
    "def mu(phi, log_func=np.log): \n",
    "    return np.array([log_func(1-phi) + phi*(1-na/nb) + chi*na*phi**2,\n",
    "                     log_func(phi) + (1-phi)*(1-nb/na) + chi*nb*(1-phi)**2])\n",
    "\n",
    "# Function to solve for common tangent \n",
    "# function ftosolve(phi) finds the common tangent between the free energy curve and the tangent line\n",
    "def ftosolve(phi):\n",
    "    return mu(phi[0], np.log) - mu(phi[1], np.log) \n",
    "\n",
    "# Find equilibrium volume fractions\n",
    "# Define an initial guess for the equilibrium volume fractions as an array\n",
    "phiguess = np.array([0.15, 0.85])\n",
    "# Use fsolve  to find the equilibrium volume fractions by solving the system of equations defined by ftosolve\n",
    "phicalc = fsolve(ftosolve, phiguess)\n",
    "\n",
    "# Calculate and plot the common tangent\n",
    "# Calculate the slope of the tangent line at the equilibrium points\n",
    "slope = (fv(phicalc[1]) - fv(phicalc[0])) / (phicalc[1] - phicalc[0])\n",
    "\n",
    "# Calculate the equation of the tangent line\n",
    "tangentline = fv(phicalc[0]) + slope * (phi - phicalc[0])\n",
    "\n",
    "# Plot the common tangent \n",
    "plt.plot(phi, tangentline, 'r--', label='Common Tangent')\n",
    "\n",
    "# Plot free energy function\n",
    "plt.plot(phi, fv(phi), 'b-', label='Free Energy')\n",
    "plt.xlabel('$\\phi_b$')\n",
    "plt.ylabel('$G_v V_0 / RT$')\n",
    "\n",
    "# Annotate equilibrium points\n",
    "plt.plot(phicalc, fv(phicalc), 'ko')\n",
    "for i, p in enumerate(phicalc):\n",
    "    plt.annotate(f'\\u03D5_b = {p:.3f}', (p, fv(p)), xytext=(5, -5), textcoords='offset points')\n",
    "\n",
    "plt.legend()\n",
    "plt.show()\n",
    "\n",
    "# Print equation of the common tangent\n",
    "print('Equation for the common tangent:')\n",
    "print(f'G_v V_0 / RT = {slope:.9f} * (\\u03D5_b - {phicalc[0]:.9f}) + {fv(phicalc[0]):.9f}')"
   ]
  },
  {
   "cell_type": "markdown",
   "id": "e6b310bc",
   "metadata": {},
   "source": [
    "## <a id = \"optimize\"></a>Code Optimization\n",
    "\n",
    "Ask your favorite chatbot to optimize the following code:"
   ]
  },
  {
   "cell_type": "code",
   "execution_count": 11,
   "id": "33a53467",
   "metadata": {},
   "outputs": [
    {
     "name": "stdout",
     "output_type": "stream",
     "text": [
      "29 is a prime number.\n"
     ]
    }
   ],
   "source": [
    "def is_prime(number):\n",
    "    if number <= 1:\n",
    "        return False\n",
    "    elif number <= 3:\n",
    "        return True\n",
    "    elif number % 2 == 0 or number % 3 == 0:\n",
    "        return False\n",
    "    else:\n",
    "        i = 5\n",
    "        while i * i <= number:\n",
    "            if number % i == 0 or number % (i + 2) == 0:\n",
    "                return False\n",
    "            i += 6\n",
    "        return True\n",
    "\n",
    "number = 29\n",
    "if is_prime(number):\n",
    "    print(number, \"is a prime number.\")\n",
    "else:\n",
    "    print(number, \"is not a prime number.\")"
   ]
  },
  {
   "cell_type": "code",
   "execution_count": 12,
   "id": "19ddc444",
   "metadata": {},
   "outputs": [
    {
     "data": {
      "text/plain": [
       "True"
      ]
     },
     "execution_count": 12,
     "metadata": {},
     "output_type": "execute_result"
    }
   ],
   "source": [
    "is_prime(2)"
   ]
  },
  {
   "cell_type": "code",
   "execution_count": 13,
   "id": "f3c65a66",
   "metadata": {},
   "outputs": [],
   "source": [
    "# OUTPUT from chatbot -- CODE CELL\n",
    "\n"
   ]
  },
  {
   "cell_type": "markdown",
   "id": "7b0eb4d6-5ec7-4a9c-8cc8-dd6dae7c16c9",
   "metadata": {},
   "source": [
    "### Did it work?\n",
    "\n",
    "How do we know if what our chatbot told us is actually better?\n",
    "Let's test it."
   ]
  },
  {
   "cell_type": "code",
   "execution_count": null,
   "id": "3c2bda9e",
   "metadata": {},
   "outputs": [],
   "source": []
  },
  {
   "cell_type": "code",
   "execution_count": null,
   "id": "63d0e045-a053-4c9d-8055-f62e1544547b",
   "metadata": {},
   "outputs": [],
   "source": []
  },
  {
   "cell_type": "code",
   "execution_count": null,
   "id": "53404db4-f5f8-49f0-9b7a-f54a7657c123",
   "metadata": {},
   "outputs": [],
   "source": []
  }
 ],
 "metadata": {
  "kernelspec": {
   "display_name": "Python 3 (ipykernel)",
   "language": "python",
   "name": "python3"
  },
  "language_info": {
   "codemirror_mode": {
    "name": "ipython",
    "version": 3
   },
   "file_extension": ".py",
   "mimetype": "text/x-python",
   "name": "python",
   "nbconvert_exporter": "python",
   "pygments_lexer": "ipython3",
   "version": "3.11.7"
  }
 },
 "nbformat": 4,
 "nbformat_minor": 5
}
