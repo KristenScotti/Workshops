{
  "nbformat": 4,
  "nbformat_minor": 0,
  "metadata": {
    "colab": {
      "provenance": []
    },
    "kernelspec": {
      "name": "python3",
      "display_name": "Python 3"
    },
    "language_info": {
      "name": "python"
    }
  },
  "cells": [
    {
      "cell_type": "markdown",
      "source": [
        "# <a id = \"intro\"></a>Introduction\n",
        "\n",
        "## <a id = \"summary\"></a>Workshop Summary\n",
        "\n",
        "We will utilize AI chatbots like ChatGPT, Bard, and Co-pilot to support the process of learning to code. Using Python as our teaching tool, participants will acquire skills that are transferable to other programming languages. We will explore how AI chatbots can be excellent resources for understanding, writing, and refining code, as well as for facilitating transitions between different coding languages.\n",
        "\n",
        "## <a id = \"presenters\"></a>Instructors\n",
        "\n",
        "Kristen Scotti\\\n",
        "STEM Librarian\\\n",
        "Email: kscotti@andrew.cmu.edu\n",
        "\n",
        "Chasz Griego\\\n",
        "STEM Librarian\\\n",
        "Email: cgriego@andrew.cmu.edu\n",
        "\n",
        "\n",
        "## <a id = \"objectives\"></a>Learning Objectives\n",
        "\n",
        "Workshop attendees will:\n",
        "1. *AI Fundamentals*: Understand key concepts and terminology related to generative AI.\n",
        "2. *Practical Application*: Use generative AI as a programming assistant to enhance coding efficiency, troubleshoot errors, and tackle projects with greater confidence.\n",
        "3. *Critical Evaluation*: Develop the ability to assess the accuracy, reliability, and usefulness of AI-generated code and solutions.\n",
        "4. *Ethical and Practical Evaluation*: Examine the ethical implications of generative AI, recognizing its strengths, weaknesses, biases, limitations, and potential for misuse.\n",
        "5. *Adaptability and Continuous Learning*: Cultivate skills to continuously adapt to advancements in AI technology.\n",
        "\n",
        "\n",
        "## <a id = \"knowledge\"></a>Assumed Knowledge\n",
        "\n",
        "Attendees are assumed to have some familiarity with coding concepts and structures, although it is not required. This workshop will not cover foundational Python skills, so basic knowledge of general programming principles is beneficial. Instead, we will focus on leveraging AI chatbots like ChatGPT to enhance coding proficiency in Python. Participants will learn to use these tools to interpret and craft code, troubleshoot errors, and facilitate transitions between coding languages. The Libraries offers a number of [workshops](https://cmu.libcal.com/calendar/events/?cid=9148&t=d&d=0000-00-00&cal=9148&inc=0) for building foundational Python skills.\n",
        "\n",
        "## <a id = \"logistics\"></a>Logistics\n",
        "We will use Jupyter Lab for this workshop. Please see the set-up instructions [here](https://cmu-lib.github.io/portfolio_workshop/Python_Series_Materials/lessons_data_analysis_visualizations/setup.html) if you don't currently have Python (and Jupyter Lab) installed on your computer.\n",
        "\n",
        "Recommended generative AI chatbots for use in this workshop:\n",
        "* <a href = \"https://chat.openai.com/\" target = \"_blank\">ChatGPT</a> (OpenAI)\n",
        "* <a href = \"https://gemini.google.com/app\" target = \"_blank\">Gemini</a> (Google)\n",
        "* <a href = \"https://copilot.microsoft.com/\" target = \"_blank\">Copilot</a> (Microsoft)\n"
      ],
      "metadata": {
        "id": "3Pr0bpZ2V5m8"
      }
    },
    {
      "cell_type": "markdown",
      "source": [
        "### Library Imports\n",
        "\n",
        "Install and/or load libraries that we will use in this workshop."
      ],
      "metadata": {
        "id": "OuLsWphsYLBm"
      }
    },
    {
      "cell_type": "code",
      "execution_count": null,
      "metadata": {
        "id": "ooc7Z9ZJVz07"
      },
      "outputs": [],
      "source": [
        "# Uncomment lines & run cell for any libraries that need to be installed\n",
        "\n",
        "#!pip install numpy\n",
        "#!pip install pandas\n",
        "#!pip install matplotlib"
      ]
    },
    {
      "cell_type": "code",
      "source": [
        "import numpy as np # import NumPy library and alias it as np\n",
        "import pandas as pd\n",
        "import matplotlib.pyplot as plt # import the Matplotlib's pyplot (plotting) module and alias it as plt"
      ],
      "metadata": {
        "id": "l2Rl9FNwV5By"
      },
      "execution_count": null,
      "outputs": []
    },
    {
      "cell_type": "code",
      "source": [],
      "metadata": {
        "id": "rmGN8FCNV5FV"
      },
      "execution_count": null,
      "outputs": []
    },
    {
      "cell_type": "markdown",
      "source": [
        "# <a id = \"problems\"></a>Exercises\n",
        "\n",
        "## <a id = \"prompt\"></a>Prompt Engineering\n",
        "\n",
        "### Warm-up: Using the CLEAR Framework for Prompt Engineering\n",
        "\n",
        "**Problem**: You are a software engineer tasked with creating an algorithm to find the shortest path in a 2D maze. You recognize that you first need to understand the logic of the algorithm that you create. Using the CLEAR framework, write a prompt to ask your chatbot to explain the logic for your algorithm.\n",
        "\n",
        "The [CLEAR framework](https://www.sciencedirect.com/science/article/pii/S0099133323000599?casa_token=MGpitYIJp94AAAAA:cEVsfn9135XMTw2dm0mWTc6rSMlKSc1mKe_wj_VMxOtLciIAHBu2zlZp6LQDEcux1W9QBiaJeQ) for prompt engineering is a structured approach designed to enhance the effectiveness of prompts used with AI models. Using the CLEAR framework ensures that prompts are clear, concise, and tailored to achieve desired outcomes when interacting with generative AI chatbots.\n",
        "\n",
        "* Concise: brevity and clarity in prompts\n",
        "* Logical: structured and coherent prompts\n",
        "* Explicit: clear output specifications\n",
        "* Adaptive: flexibility and customization in prompts\n",
        "* Reflective: continuous evaluation and improvement of prompts"
      ],
      "metadata": {
        "id": "jnCiCOHhYX3p"
      }
    },
    {
      "cell_type": "code",
      "source": [],
      "metadata": {
        "id": "_njBgwB2V5Im"
      },
      "execution_count": null,
      "outputs": []
    },
    {
      "cell_type": "code",
      "source": [],
      "metadata": {
        "id": "Qa1EATiWYsx-"
      },
      "execution_count": null,
      "outputs": []
    },
    {
      "cell_type": "markdown",
      "source": [
        "## <a id = \"optimize\"></a>Data Import and Exploration\n",
        "\n",
        "**Problem**: Use your favorite chatbot to write Python code that imports the following dataset into a pandas dataframe: https://www.itl.nist.gov/div898/handbook/datasets/MODEL-4_4_4.DAT. Then, write code to:\n",
        "\n",
        "* Print out the column names and data types\n",
        "* View the first few rows of the dataset\n",
        "* Create a plot showing the relationwsship between temperature and pressure, color points based on the \"Day\" variable.\n",
        "* Fit a linear regression for the relationship between temperature and pressure and plot the regression line on your plot\n",
        "\n"
      ],
      "metadata": {
        "id": "0YQmWAztZFBy"
      }
    },
    {
      "cell_type": "code",
      "source": [],
      "metadata": {
        "id": "wKvFwaB7Ys4J"
      },
      "execution_count": null,
      "outputs": []
    },
    {
      "cell_type": "code",
      "source": [],
      "metadata": {
        "id": "Zi0RA7_WZLOp"
      },
      "execution_count": null,
      "outputs": []
    },
    {
      "cell_type": "code",
      "source": [],
      "metadata": {
        "id": "NxzjGAWTYs7J"
      },
      "execution_count": null,
      "outputs": []
    },
    {
      "cell_type": "code",
      "source": [],
      "metadata": {
        "id": "-5x6W6sVY9-r"
      },
      "execution_count": null,
      "outputs": []
    },
    {
      "cell_type": "code",
      "source": [],
      "metadata": {
        "id": "CCRVHhrhZHek"
      },
      "execution_count": null,
      "outputs": []
    },
    {
      "cell_type": "markdown",
      "source": [
        "## <a id = \"optimize\"></a>Data Export\n",
        "\n",
        "**Problem**: Export your dataframe as a CSV file, saving on your machine. Then, import the CSV as a pandas dataframe. Explore the dataframe to ensure that it imported properly.\n",
        "\n"
      ],
      "metadata": {
        "id": "bpb62m8sZH7O"
      }
    },
    {
      "cell_type": "code",
      "source": [],
      "metadata": {
        "id": "rkCPQJkqaJxj"
      },
      "execution_count": null,
      "outputs": []
    },
    {
      "cell_type": "code",
      "source": [],
      "metadata": {
        "id": "-bhOg4ImY-CE"
      },
      "execution_count": null,
      "outputs": []
    },
    {
      "cell_type": "code",
      "source": [],
      "metadata": {
        "id": "KI2wblyXZepB"
      },
      "execution_count": null,
      "outputs": []
    },
    {
      "cell_type": "code",
      "source": [],
      "metadata": {
        "id": "193MAWPdZevD"
      },
      "execution_count": null,
      "outputs": []
    },
    {
      "cell_type": "markdown",
      "source": [
        "<b>Problem</b>: Convert the MATLAB code that finds the common tangent of double-well function\\\n",
        "\n",
        "MATLAB CODE:\n",
        "```\n",
        "% analyze the phase behavior of a binary mixture using Flory-Huggins theory by determining equilibrium volume fractions and finding the common tangent of the free energy curve.\n",
        "% Define parameters for the calculation\n",
        "na = 150;\n",
        "nb = 125;\n",
        "chi = 0.02;\n",
        "\n",
        "% Create an array 'phi' for volume fractions ranging from 0.001 to 0.999 with 1000 evenly spaced points\n",
        "phi = linspace(0.001, 0.999, 1000);\n",
        "\n",
        "% Free energy of mixing function\n",
        "% function fv(phi) calculates the free energy of mixing as a function of the volume fraction phi\n",
        "fv = @(phi) phi.*log(phi)/nb + (1-phi).*log(1-phi)/na + chi.*phi.*(1-phi);\n",
        "\n",
        "% Chemical potentials of components A and B\n",
        "% function mua(phi) calculates the chemical potential of component A as a function of volume fraction phi\n",
        "% function mub(phi) calculates the chemical potential of component B as a function of volume fraction phi\n",
        "mua = @(phi) log(1-phi) + phi*(1-na/nb) + chi*na*phi.^2;\n",
        "mub = @(phi) log(phi) + (1-phi)*(1-nb/na) + chi*nb*(1-phi)^2;\n",
        "\n",
        "% Function to solve for common tangent\n",
        "% function ftosolve(phi) computes the difference in chemical potentials between two volume fractions, representing the equation of the common tangent\n",
        "ftosolve = @(phi) [mua(phi(1))-mua(phi(2)); mub(phi(1))-mub(phi(2))];\n",
        "\n",
        "% Define an 'initial guess' for the equilibrium volume fractions as an array\n",
        "phiguess = [0.2; 0.8];\n",
        "\n",
        "% Use the 'fsolve' function to find the equilibrium volume fractions by solving the system of equations defined by ftosolve\n",
        "[phicalc, ~] = fsolve(ftosolve, phiguess);\n",
        "\n",
        "% Calculate and plot the tangent line\n",
        "% Calculate the slope of the tangent line at the equilibrium points:\n",
        "slope = (fv(phicalc(2))-fv(phicalc(1)))/(phicalc(2)-phicalc(1));\n",
        "\n",
        "% Calculate the equation of the tangent line\n",
        "tangentline = fv(phicalc(1)) + slope * (phi - phicalc(1));\n",
        "\n",
        "% Plot free energy function and the tangent line\n",
        "plot(phi, fv(phi), 'LineWidth', 2);\n",
        "hold on; % put hold on current plot to allow subsequent plots to be added to it\n",
        "plot(phi, tangentline, 'r', 'LineWidth', 2);\n",
        "hold off; % end hold on current plot\n",
        "\n",
        "% Set line width to 2\n",
        "xlabel('\\phi_{b}');\n",
        "ylabel('G_{v}V_{0}/RT');\n",
        "legend('Free Energy', 'Common Tangent');\n",
        "\n",
        "% Print equation of the common tangent\n",
        "disp('Equation for the common tangent:');\n",
        "disp(['G_{v}V_{0}/RT = ' num2str(slope) ' * (\\phi_{b} - ' num2str(phicalc(1)) ') + ' num2str(fv(phicalc(1)))]);\n",
        "```\n",
        "\n",
        "OUTPUT:\\\n",
        "![matlabDoubleWell](https://raw.githubusercontent.com/KristenScotti//Workshops/main/img/matlabDoubleWell.PNG)"
      ],
      "metadata": {
        "id": "i2mfAe-vY-Ms"
      }
    },
    {
      "cell_type": "code",
      "source": [],
      "metadata": {
        "id": "9XEC5hYOY_f5"
      },
      "execution_count": null,
      "outputs": []
    }
  ]
}