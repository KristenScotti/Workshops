{
 "cells": [
  {
   "cell_type": "markdown",
   "id": "9fc9120d",
   "metadata": {},
   "source": [
    "<img src=\"https://raw.githubusercontent.com/KristenScotti//Workshops/main/img/UL_CMU_Logo_Horiz_Red.png\" \n",
    "     alt=\"CMU Libraries Logo\" width=\"30%\" height=\"30%\" style=\"float: left; margin-left: -20px;\">"
   ]
  },
  {
   "cell_type": "markdown",
   "id": "d4c01cd9-6c9a-4cf6-bc72-be97405033cc",
   "metadata": {},
   "source": [
    "# Python for All: Democratizing Coding Mastery with AI Chatbot Support INSTRUCTOR VERSION\n",
    "\n",
    "*PYTHON FOR ALL: Democratizing Coding Mastery with AI Chatbot Support* is a library workshop designed by Carnegie Mellon University Libraries to teach Python using generative AI chatbots. The workshop integrates AI literacy with practical coding skills to empower participants to leverage AI tools effectively and ethically. Through hands-on exercises, guided instruction, and critical discussions, the workshop enhances coding proficiency and critical thinking skills. The workshop materials are provided as Open Educational Resources (OER) to support the democratization of coding education.\n",
    "\n",
    "License: CC-By Attribution 4.0 International\n",
    "\n",
    "## How to Cite\n",
    "Scotti, Kristen L and Beltran, Lencia (2024). PYTHON FOR ALL: A Library Workshop for Bridging AI Literacy and Coding Skills. *Submitted to: College and Research Libraries*. https://doi.org/10.17605/OSF.IO/2XZ7U "
   ]
  },
  {
   "cell_type": "markdown",
   "id": "dd8ccffd-92a9-497c-a9c4-9656d063291d",
   "metadata": {},
   "source": [
    "## <a id = \"contents\">Contents</a>\n",
    "* <a href='#intro'>Introduction</a>\n",
    "    - <a href='#summary'>Workshop Summary</a> \n",
    "    - <a href='#presenters'>Presenters</a> \n",
    "    - <a href='#objectives'>Learning Objectives</a> \n",
    "    - <a href='#knowledge'>Assumed Knowledge</a>\n",
    "    - <a href='#logistics'>Logistics</a>\n",
    "* <a href = \"#problems\">Exercises</a>\n",
    "    - <a href ='#prompt'>Prompt Engineering</a> (three exercises)\n",
    "    - <a href ='#breakdown'>Breaking Down Complex Problems</a>\n",
    "    - <a href='#optimize'>Code Optimization</a>\n",
    "    - <a href='#convert'>Language Conversion</a>"
   ]
  },
  {
   "cell_type": "markdown",
   "id": "b05cad2b-d746-459d-90f3-9bf7e1ea6a2b",
   "metadata": {},
   "source": [
    "***"
   ]
  },
  {
   "cell_type": "markdown",
   "id": "963c3db6-230c-4f20-a146-56d9c5e038e2",
   "metadata": {},
   "source": [
    "# <a id = \"intro\"></a>Introduction\n",
    "\n",
    "## <a id = \"summary\"></a>Workshop Summary\n",
    "\n",
    "We will utilize AI chatbots like ChatGPT to support the process of learning to code. Using Python as our teaching tool, participants will acquire skills that are transferable to other programming languages. We will explore how AI chatbots can be invaluable resources for understanding, writing, and refining code, as well as for facilitating transitions between different coding languages.\n",
    "\n",
    "## <a id = \"presenters\"></a>Instructors\n",
    "\n",
    "Kristen Scotti\\\n",
    "Open Science Postdoc\\\n",
    "kscotti@andrew.cmu.edu \n",
    "\n",
    "\n",
    "## <a id = \"objectives\"></a>Learning Objectives\n",
    "\n",
    "Workshop attendees will:\n",
    "1. *AI Fundamentals*: Remember and understand key concepts and terminology related to GenAI by defining and describing them.\n",
    "2. *Practical Application*: Apply GenAI as a programming assistant to enhance coding efficiency and diagnose coding errors; demonstrate increased confidence in using GenAI tools by integrating GenAI to complete coding exercises.\n",
    "3. *Critical Evaluation*: Evaluate the accuracy, reliability, and usefulness of AI-generated code and solutions in coding projects.\n",
    "4. *Ethical and Practical Evaluation*: Analyze the ethical implications of generative AI, including its strengths, weaknesses, biases, limitations\n",
    "5. *Adaptability and Continuous Learning*: Create strategies to continuously adapt and respond to advancements in AI technologies, developing new skills to stay current.\n",
    "\n",
    "\n",
    "## <a id = \"knowledge\"></a>Assumed Knowledge\n",
    "\n",
    "This workshop is intended for beginner-level Python coders. Attendees are assumed to have some familiarity with coding concepts and structures, although it is not required. This workshop will not cover foundational Python skills, so basic knowledge of general programming principles is beneficial. Instead, we will focus on leveraging AI chatbots like ChatGPT to enhance coding proficiency in Python. Participants will learn to use these tools to interpret and generate code, troubleshoot errors, and facilitate transitions between coding languages. The Libraries offers a number of [workshops](https://cmu.libcal.com/calendar/events/?cid=9148&t=d&d=0000-00-00&cal=9148&inc=0) for building foundational Python skills.\n",
    "\n",
    "## <a id = \"logistics\"></a>Logistics\n",
    "We will use [Binder](https://mybinder.org/) to access the Jupyter notebook for this workshop. Binder is a free, open-source web service that allows us to create and share interactive computing environments from GitHub repositories.\n",
    "\n",
    "Recommended generative AI chatbots for use in this workshop:\n",
    "* <a href = \"https://chat.openai.com/\" target = \"_blank\">ChatGPT</a> (OpenAI)\n",
    "* <a href = \"https://gemini.google.com/app\" target = \"_blank\">Gemini</a> (Google)\n",
    "* <a href = \"https://copilot.microsoft.com/\" target = \"_blank\">Copilot</a> (Microsoft)\n"
   ]
  },
  {
   "cell_type": "markdown",
   "id": "8751358a-4ed7-49a1-8d2b-6e32f30a2899",
   "metadata": {},
   "source": [
    "***"
   ]
  },
  {
   "cell_type": "markdown",
   "id": "6129d816-4c26-4756-8b70-4a4335b920af",
   "metadata": {},
   "source": [
    "### Library Imports"
   ]
  },
  {
   "cell_type": "markdown",
   "id": "c15332ed-9eb5-41bb-ab03-9d4949eb2682",
   "metadata": {},
   "source": [
    "Install and/or load libraries that we will use in this workshop."
   ]
  },
  {
   "cell_type": "code",
   "execution_count": 2,
   "id": "ea142ce0",
   "metadata": {},
   "outputs": [],
   "source": [
    "# Uncomment lines & run cell for any libraries that need to be installed\n",
    "\n",
    "#!pip install numpy\n",
    "#!pip install pandas\n",
    "#!pip install matplotlib"
   ]
  },
  {
   "cell_type": "code",
   "execution_count": 17,
   "id": "ecf453ba",
   "metadata": {},
   "outputs": [],
   "source": [
    "import numpy as np # import NumPy library and alias it as np\n",
    "import pandas as pd\n",
    "import matplotlib.pyplot as plt # import the Matplotlib's pyplot (plotting) module and alias it as plt"
   ]
  },
  {
   "cell_type": "markdown",
   "id": "d1e91fb7-4cd3-4f9f-8c50-3ccd3bab7e1b",
   "metadata": {},
   "source": [
    "***"
   ]
  },
  {
   "cell_type": "markdown",
   "id": "8426a396-4a08-4432-96ae-123fbae50ba8",
   "metadata": {},
   "source": [
    "# <a id = \"problems\"></a>Exercises\n",
    "\n",
    "## <a id = \"prompt\"></a>Prompt Engineering"
   ]
  },
  {
   "cell_type": "markdown",
   "id": "53679cb3-25b1-461d-98fc-b28f15269e32",
   "metadata": {},
   "source": [
    "### 1. Using the CLEAR Framework for Prompt Engineering"
   ]
  },
  {
   "cell_type": "markdown",
   "id": "4cbf5f9a-91bc-4876-94f0-b163d6753715",
   "metadata": {},
   "source": [
    "**Problem**: You are a software engineer tasked with creating an algorithm to find the shortest path in a 2D maze. You recognize that you first need to understand the logic of the algorithm that you create. Using the CLEAR framework, write a prompt to ask your chatbot to explain the logic for your algorithm. \n",
    "\n",
    "The [CLEAR framework](https://www.sciencedirect.com/science/article/pii/S0099133323000599?casa_token=MGpitYIJp94AAAAA:cEVsfn9135XMTw2dm0mWTc6rSMlKSc1mKe_wj_VMxOtLciIAHBu2zlZp6LQDEcux1W9QBiaJeQ) for prompt engineering is a structured approach designed to enhance the effectiveness of prompts used with AI models. CLEAR stands for Concise, Logical, Explicit, Adaptive, and Reflective. Using the CLEAR framework ensures that prompts are clear, concise, and tailored to achieve desired outcomes when interacting with generative AI chatbots."
   ]
  },
  {
   "cell_type": "markdown",
   "id": "ceca302c",
   "metadata": {},
   "source": []
  },
  {
   "cell_type": "markdown",
   "id": "08496a01-56d5-46b9-a7f0-11107ba8f8f6",
   "metadata": {},
   "source": [
    "---"
   ]
  },
  {
   "cell_type": "markdown",
   "id": "794a8d9a-707d-45b7-ab8d-f10bbab74fc7",
   "metadata": {},
   "source": [
    "### 2. Let’s use a chatbot to help us understand Python syntax"
   ]
  },
  {
   "cell_type": "markdown",
   "id": "771d9db3-ff09-4bd2-96e6-a6a94be69938",
   "metadata": {},
   "source": [
    "**Problem**: Ask your favorite AI chatbot to give you a table showing common syntax elements\n",
    "\n",
    "Prompt: Create a markdown table outlining the key syntax elements in Python. Include variables, conditionals, loops, functions, classes, imports, exception handling, Boolean operators, math operators, comparison operators, and comprehensions."
   ]
  },
  {
   "cell_type": "markdown",
   "id": "bc9828fd-5c89-4238-a067-f0028f94058c",
   "metadata": {},
   "source": [
    "Paste output in the cell below"
   ]
  },
  {
   "cell_type": "markdown",
   "id": "8270a006-e2ea-44e3-a8d0-035b476036b6",
   "metadata": {},
   "source": []
  },
  {
   "cell_type": "code",
   "execution_count": null,
   "id": "de5e1ae3-6d5a-4536-946a-e8741af7da27",
   "metadata": {},
   "outputs": [],
   "source": []
  },
  {
   "cell_type": "markdown",
   "id": "fc5a26b9-a6a4-4e8c-ab47-1fc56534d9f5",
   "metadata": {},
   "source": [
    "---"
   ]
  },
  {
   "cell_type": "markdown",
   "id": "c9a9ce65-ab23-4ffa-a525-b55b0f86c3f8",
   "metadata": {},
   "source": [
    "### 3. Ask an AI chatbot to generate Python code for creating a plot that shows the relationship between two variables"
   ]
  },
  {
   "cell_type": "markdown",
   "id": "e606676f-c227-4b86-8231-ff9c0d38acec",
   "metadata": {},
   "source": [
    "**Problem**: Prompt engineering is the process of designing and refining input queries to optimize the output responses from generative AI models. Use what you learned about the CLEAR framework to engineer a prompt requesting your chatbot to provide code for plotting the following data:\n",
    "\n",
    "x = [1, 2, 3, 4, 5], y = [2, 4, 6, 8, 10] \n",
    "\n",
    "What information should we include in our **prompt**? "
   ]
  },
  {
   "cell_type": "markdown",
   "id": "fd22ded5-334e-434b-afd4-6a98dc2a00a1",
   "metadata": {},
   "source": [
    "Paste chatbot output in the cell below and run"
   ]
  },
  {
   "cell_type": "code",
   "execution_count": 1,
   "id": "12ebec3c-577b-4d76-a5b8-24be2bfa8961",
   "metadata": {},
   "outputs": [],
   "source": [
    "# PASTE CHATBOT OUTPUT IN THIS CELL AND RUN"
   ]
  },
  {
   "cell_type": "markdown",
   "id": "28521810-4d1e-4f3a-a1ab-4f843ad76f6d",
   "metadata": {},
   "source": [
    "***"
   ]
  },
  {
   "cell_type": "markdown",
   "id": "565f6c8d-3f34-4ac6-a2ec-d979b6a28cc5",
   "metadata": {},
   "source": [
    "## <a id = \"breakdown\"></a>Breaking Down Complex Problems"
   ]
  },
  {
   "cell_type": "markdown",
   "id": "e2eb10e0-ae18-4260-a121-371cdfca8b0e",
   "metadata": {},
   "source": [
    "### 4. Build a number guessing game where the computer randomly selects a number, and the user tries to guess it."
   ]
  },
  {
   "cell_type": "markdown",
   "id": "a3984d54-899b-41dc-bb8b-eab3013b725f",
   "metadata": {},
   "source": [
    "**Problem**: \n",
    "Let's breakdown the problem into tasks\n",
    "* Task 1: Generate a random number\n",
    "* Task 2:\n",
    "* Task 3..."
   ]
  },
  {
   "cell_type": "code",
   "execution_count": 3,
   "id": "5fd99785-16b0-42de-9704-dad864117be2",
   "metadata": {},
   "outputs": [
    {
     "name": "stdout",
     "output_type": "stream",
     "text": [
      "Random number generated (for testing): 45\n"
     ]
    }
   ],
   "source": [
    "# Task 1, prompt: How do I generate a random number between 1 and 100 in Python?\n",
    "\n",
    "import random\n",
    "\n",
    "def generate_random_number():\n",
    "    return random.randint(1, 100)\n",
    "\n",
    "# Test the function\n",
    "random_number = generate_random_number()\n",
    "print(f\"Random number generated (for testing): {random_number}\")"
   ]
  },
  {
   "cell_type": "code",
   "execution_count": null,
   "id": "a24b8788-773a-4769-a688-343981207d10",
   "metadata": {},
   "outputs": [],
   "source": []
  },
  {
   "cell_type": "code",
   "execution_count": null,
   "id": "0c6017b3-b634-4490-a555-020ae04b6354",
   "metadata": {},
   "outputs": [],
   "source": []
  },
  {
   "cell_type": "code",
   "execution_count": null,
   "id": "de05c921",
   "metadata": {},
   "outputs": [],
   "source": []
  },
  {
   "cell_type": "code",
   "execution_count": null,
   "id": "2666ff7f",
   "metadata": {},
   "outputs": [],
   "source": []
  },
  {
   "cell_type": "markdown",
   "id": "a65ed7cc-ac33-4340-9b6f-76ca6018b822",
   "metadata": {},
   "source": [
    "***"
   ]
  },
  {
   "cell_type": "markdown",
   "id": "ff058b12-2ce4-4bb8-bf02-7ff2167c666b",
   "metadata": {},
   "source": [
    "## <a id = \"optimize\"></a>5. Code Optimization"
   ]
  },
  {
   "cell_type": "markdown",
   "id": "e1ff9470-5adc-4fd1-aaa2-de189408dc7b",
   "metadata": {},
   "source": [
    "**Problem**: Below is a function that finds the sum of all prime numbers below a given number. Run the code to verify that it works; then, ask your favorite chatbot to opimtize the code."
   ]
  },
  {
   "cell_type": "code",
   "execution_count": 9,
   "id": "f2930472-d632-415a-8ff2-acefd6ec966f",
   "metadata": {
    "tags": []
   },
   "outputs": [],
   "source": [
    "def is_prime(number):\n",
    "    \"\"\"\n",
    "    Checks if a number is a prime number.\n",
    "\n",
    "    Parameters:\n",
    "    number (int): The number to check.\n",
    "\n",
    "    Returns:\n",
    "    bool: True if the number is prime, False otherwise.\n",
    "    \"\"\"\n",
    "    if number <= 1:\n",
    "        return False\n",
    "    for i in range(2, int(number ** 0.5) + 1):\n",
    "        if number % i == 0:\n",
    "            return False\n",
    "    return True\n",
    "\n",
    "def sum_of_primes(limit):\n",
    "    \"\"\"\n",
    "    Calculates the sum of all prime numbers below a given limit.\n",
    "\n",
    "    Parameters:\n",
    "    limit (int): The upper limit (exclusive) for summing prime numbers.\n",
    "\n",
    "    Returns:\n",
    "    int: The sum of all prime numbers below the limit.\n",
    "    \"\"\"\n",
    "    total_sum = 0\n",
    "    for num in range(2, limit):\n",
    "        if is_prime(num):\n",
    "            total_sum += num\n",
    "    return total_sum"
   ]
  },
  {
   "cell_type": "code",
   "execution_count": 8,
   "id": "b9f47754-eb59-432f-994f-ef2767a81cf8",
   "metadata": {},
   "outputs": [
    {
     "name": "stdout",
     "output_type": "stream",
     "text": [
      "The sum of all primes below 10000 is: 5736396\n"
     ]
    }
   ],
   "source": [
    "# Test the function\n",
    "n = 10000\n",
    "result = sum_of_primes(n)\n",
    "print(f\"The sum of all primes below {n} is: {result}\")"
   ]
  },
  {
   "cell_type": "markdown",
   "id": "061f1f85-9927-4a0a-8b21-1aade263b95d",
   "metadata": {},
   "source": [
    "Paste the optimized function in the code cell below:"
   ]
  },
  {
   "cell_type": "code",
   "execution_count": null,
   "id": "0602c6ee-96f0-4b69-8629-476c24a04710",
   "metadata": {},
   "outputs": [],
   "source": []
  },
  {
   "cell_type": "markdown",
   "id": "d8dc22ea-5578-4030-a2f4-9894b8dfde96",
   "metadata": {},
   "source": [
    "### Is our optimized function better?"
   ]
  },
  {
   "cell_type": "code",
   "execution_count": null,
   "id": "22da2cae-a5b7-4e9e-b147-806fb813a8a7",
   "metadata": {},
   "outputs": [],
   "source": []
  },
  {
   "cell_type": "code",
   "execution_count": null,
   "id": "22edcf26-dd26-418f-b9f8-4d25e38acda2",
   "metadata": {},
   "outputs": [],
   "source": []
  },
  {
   "cell_type": "markdown",
   "id": "b3de8821-7623-4b7b-8be2-f36d846e8b11",
   "metadata": {},
   "source": [
    "***"
   ]
  },
  {
   "cell_type": "markdown",
   "id": "2a923023-9fbe-4e19-b0b4-f790b2bb3db6",
   "metadata": {},
   "source": [
    "## <a id = \"convert\"></a>6. Language Conversion"
   ]
  },
  {
   "cell_type": "markdown",
   "id": "c1320259-d711-4abe-bdac-4c0dcd7362b3",
   "metadata": {},
   "source": [
    "<b>Problem</b>: Here, we'll focus on translating MATLAB code into Python. However, these techniques are versatile and can be applied to converting code from various other languages as well. Feel free to utilize your preferred AI chatbot to assist in converting the MATLAB code provided below into Python.\n",
    "\n",
    "**MATLAB Code**\n",
    "\n",
    "```\n",
    "x = linspace(0,2*pi,100);\n",
    "y = sin(x);\n",
    "plot(x,y,':')\n",
    "\n",
    "hold on \n",
    "y2 = cos(x);\n",
    "plot(x,y2,'--ro')\n",
    "hold off\n",
    "\n",
    "xlabel('x')\n",
    "ylabel('sin(x)')\n",
    "xlim([0, 6]);\n",
    "ylim([-1, 1]);\n",
    "title('Plot of the Sine Function')\n",
    "```\n",
    "\n",
    "OUTPUT:\n",
    "![matlabDoubleWell](https://raw.githubusercontent.com/KristenScotti//Workshops/main/img/matlabSinePlot.png)"
   ]
  },
  {
   "cell_type": "markdown",
   "id": "7a55ff6c-8d4e-4a35-bc07-4de5534484d2",
   "metadata": {},
   "source": [
    "Paste chatbot output in the code cell below and run"
   ]
  },
  {
   "cell_type": "code",
   "execution_count": null,
   "id": "ac5ba61c-f2a3-4ae2-b568-64927e872534",
   "metadata": {},
   "outputs": [],
   "source": []
  },
  {
   "cell_type": "code",
   "execution_count": null,
   "id": "f737a737-8e2e-4e9b-9159-c44974bcd89a",
   "metadata": {},
   "outputs": [],
   "source": []
  }
 ],
 "metadata": {
  "kernelspec": {
   "display_name": "Python 3 (ipykernel)",
   "language": "python",
   "name": "python3"
  },
  "language_info": {
   "codemirror_mode": {
    "name": "ipython",
    "version": 3
   },
   "file_extension": ".py",
   "mimetype": "text/x-python",
   "name": "python",
   "nbconvert_exporter": "python",
   "pygments_lexer": "ipython3",
   "version": "3.11.5"
  }
 },
 "nbformat": 4,
 "nbformat_minor": 5
}
