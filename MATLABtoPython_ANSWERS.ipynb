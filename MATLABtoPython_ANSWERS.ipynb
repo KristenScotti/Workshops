{
 "cells": [
  {
   "cell_type": "markdown",
   "id": "d4c01cd9-6c9a-4cf6-bc72-be97405033cc",
   "metadata": {},
   "source": [
    "# Easing the transition from MATLAB to Python with AI Chatbots"
   ]
  },
  {
   "cell_type": "markdown",
   "id": "dd8ccffd-92a9-497c-a9c4-9656d063291d",
   "metadata": {},
   "source": [
    "## <a id = \"contents\"></a>Contents\n",
    "* <a href='#summary'>Workshop Summary</a>\n",
    "    - <a href='#presenters'>Presenters</a> \n",
    "    - <a href='#objectives'>Learning Objectives</a> \n",
    "    - <a href='#knowledge'>Assumed Knowledge</a> \n",
    "* <a href='#intro'>Introduction</a>\n",
    "* <a href ='#understand'>Code Comprehension</a>\n",
    "* <a href='#convert'>Language Conversion</a>\n",
    "* <a href='#program'>Programming Assistant</a>\n",
    "* <a href='#optimize'>Code Optimization</a>"
   ]
  },
  {
   "cell_type": "markdown",
   "id": "b05cad2b-d746-459d-90f3-9bf7e1ea6a2b",
   "metadata": {},
   "source": [
    "***"
   ]
  },
  {
   "cell_type": "markdown",
   "id": "963c3db6-230c-4f20-a146-56d9c5e038e2",
   "metadata": {},
   "source": [
    "## <a id = \"summary\"></a>Workshop Summary\n",
    "\n",
    "In this workshop, we will delve into the dynamic realm of AI chatbots, including ChatGPT, Bard, and Co-pilot, discovering their transformative potential in comprehending, crafting, and troubleshooting code. With an emphasis on leveraging these tools to facilitate transitions between coding languages, particularly from MATLAB to Python, we will explore the benefits of Python's open-source nature, fostering accessibility, collaboration, and a vibrant community-driven ecosystem. The session will illuminate how AI chatbots streamline the learning curve, offering real-time guidance, suggestions, and insights, thereby enhancing coding proficiency and empowering developers to tackle complex challenges with greater agility and confidence.\n",
    "\n",
    "### <a id = \"presenters\"></a>Presenters\n",
    "\n",
    "Kristen Scotti\\\n",
    "Open Science Postdoc\\\n",
    "Office: 4416, Sorrells Library  \\\n",
    "[kscotti@andrew.cmu.edu](mailto:kscotti@andrew.cmu.edu) \n",
    "\n",
    "Sahithi Maddula\\\n",
    "Data & Code Support Consultant\\\n",
    "[venkatas@andrew.cmu.edu](mailto:venkatas@andrew.cmu.edu)\n",
    "\n",
    "\n",
    "### <a id = \"objectives\"></a>Learning Objectives\n",
    "\n",
    "Workshop attendees will be able to:\n",
    "1. Understand the capabilities of AI chatbots such as ChatGPT, Bard, and Co-pilot in comprehending and interpreting code structures, logic, and syntax.\n",
    "2. Learn techniques for utilizing AI chatbots to efficiently convert code from one programming language to another, with a focus on transitioning from MATLAB to Python.\n",
    "3. Gain experience using AI chatbots as a programmer's assistant, including accessing real-time guidance, suggestions, and insights to enhance code quality and efficiency.\n",
    "4. Explore the advantages of Python's open-source nature and its impact on accessibility, collaboration, and community-driven development, particularly in contrast to proprietary languages like MATLAB.\n",
    "5. Gain hands-on experience in leveraging AI chatbots to streamline the coding process, troubleshoot errors, and tackle complex challenges with agility and confidence.\n",
    "\n",
    "### <a id = \"knowledge\"></a>Assumed Knowledge\n",
    "\n",
    "Attendees are assumed to have some familiarity with MATLAB, although it is not a requirement for participation. The workshop will not cover MATLAB basics, so a basic understanding of MATLAB syntax and concepts is beneficial. Additionally, while the workshop will focus on utilizing AI chatbots to transition from MATLAB to Python and enhance coding proficiency, it will not provide in-depth Python instruction. Instead, participants will gain a general understanding of Python syntax and programming concepts. This workshop will primarily focus on leveraging AI chatbots to interpret and craft code, troubleshoot errors, and facilitate language transitions, rather than on building foundational Python skills. The Libraries offers a number of [workshops](https://cmu.libcal.com/calendar/events/?cid=9148&t=d&d=0000-00-00&cal=9148&inc=0)  for enhancing your foundational Python skills. \n"
   ]
  },
  {
   "cell_type": "markdown",
   "id": "8751358a-4ed7-49a1-8d2b-6e32f30a2899",
   "metadata": {},
   "source": [
    "***"
   ]
  },
  {
   "cell_type": "markdown",
   "id": "08bbcccb-18ec-43a8-9f2b-9028f365d248",
   "metadata": {},
   "source": [
    "## <a id = \"intro\"></a>Introduction\n",
    "\n",
    "### Etherpad\n",
    "\n",
    "Etherpad <a href = \"https://etherpad.wikimedia.org/p/ChatbotCoding\" target = \"_blank\">LINK</a>\n",
    "\n",
    "### Using AI Chatbots to Code\n",
    "\n",
    "* General purpose:\n",
    "    - <a href = \"https://chat.openai.com/\" target = \"_blank\">ChatGPT</a> (OpenAI)\n",
    "* More code-focused (training data is specifically curated towards code understanding, completion, and problem-solving):\n",
    "    - <a href = \"https://gemini.google.com/app\" target = \"_blank\">Gemini</a> (Google)\n",
    "    - <a href = \"https://copilot.microsoft.com/\" target = \"_blank\">Copilot</a> (GitHub and OpenAI)\n",
    "    \n",
    "#### How to cite\n",
    "* [Guidance](https://apastyle.apa.org/blog/how-to-cite-chatgpt)\n",
    "\n",
    "### Library Imports"
   ]
  },
  {
   "cell_type": "code",
   "execution_count": 1,
   "id": "ea142ce0",
   "metadata": {},
   "outputs": [],
   "source": [
    "# !pip install numpy\n",
    "# !pip install pandas\n",
    "# !pip install matplotlib\n",
    "# !pip install scipy"
   ]
  },
  {
   "cell_type": "code",
   "execution_count": 2,
   "id": "ecf453ba",
   "metadata": {},
   "outputs": [],
   "source": [
    "import numpy as np # import NumPy library and alias it as np\n",
    "import pandas as pd\n",
    "import matplotlib.pyplot as plt # import the Matplotlib's pyplot (plotting) module and alias it as plt"
   ]
  },
  {
   "cell_type": "markdown",
   "id": "d1e91fb7-4cd3-4f9f-8c50-3ccd3bab7e1b",
   "metadata": {},
   "source": [
    "***"
   ]
  },
  {
   "cell_type": "markdown",
   "id": "794a8d9a-707d-45b7-ab8d-f10bbab74fc7",
   "metadata": {},
   "source": [
    "## <a id = \"understand\"></a>Code Comprehension\n",
    "\n",
    "### Scenario: Reusing Code\n",
    "\n",
    "You're need to write Python code that discerns whether an integer is even or odd and determines its positivity or negativity. While browsing Stack Overflow, you stumble upon a promising code snippet. It appears to function correctly, but you don't understand how it works. How might you leverage an AI chatbot to help you understand the code? \\\n",
    "\\\n",
    "Let's give it a shot!\\\n",
    "\\\n",
    "Here is the code snippet you obtained from Stack Overflow:"
   ]
  },
  {
   "cell_type": "code",
   "execution_count": 3,
   "id": "070ce972-25cc-4139-8d5a-83107a1842c5",
   "metadata": {
    "tags": []
   },
   "outputs": [],
   "source": [
    "def numberProps(number):\n",
    "    if number == 0:\n",
    "         print(f\"{number} is even and neither positive nor negative (it is zero)\")\n",
    "                \n",
    "    elif number % 2 == 0:\n",
    "        if number < 0:\n",
    "            print(f\"{number} is even and negative\")\n",
    "        else: \n",
    "            print(f\"{number} is even and positive\")\n",
    "            \n",
    "    else:\n",
    "        if number < 0:\n",
    "            print(f\"{number} is odd and negative\")\n",
    "        else: \n",
    "            print(f\"{number} is odd and positive\")"
   ]
  },
  {
   "cell_type": "code",
   "execution_count": 4,
   "id": "b7ef4189-ca32-4093-a307-0c6ce85562a9",
   "metadata": {
    "tags": []
   },
   "outputs": [
    {
     "name": "stdout",
     "output_type": "stream",
     "text": [
      "2 is even and positive\n"
     ]
    }
   ],
   "source": [
    "numberProps(2)"
   ]
  },
  {
   "cell_type": "markdown",
   "id": "c0d1a0f7-ebfd-4fe0-98ce-b88c6da3d632",
   "metadata": {},
   "source": [
    "#### Task: Explain Code\n",
    "\n",
    "**APPROACH**:\n",
    "\n",
    "Chatbot input: \"Explain each line of code\" (paste code snippet)\n",
    "\n",
    "**ChatGPT OUTPUT**:\n",
    "\n",
    "Sure! This Python function `numberProps` takes a parameter `number` and prints out information about it based on whether it's positive, negative, even, or odd.\n",
    "\n",
    "Here's a breakdown of each line:\n",
    "\n",
    "1. `def numberProps(number):`: This line defines a function named `numberProps` that takes one parameter, `number`.\n",
    "\n",
    "2. `if number == 0:`: This line checks if the input `number` is equal to 0.\n",
    "\n",
    "3. `print(f\"{number} is even and neither positive nor negative (it is zero)\")`: If the `number` is 0, this line prints a message indicating that the number is even and neither positive nor negative (since it's zero).\n",
    "\n",
    "4. `elif number % 2 == 0:`: If the number is not 0, this line checks if the number is even by checking if the remainder of the number divided by 2 is 0 using the modulo operator `%`.\n",
    "\n",
    "5. `if number < 0:`: If the number is even (as determined by the previous line) and less than 0, this line checks if it's negative.\n",
    "\n",
    "6. `print(f\"{number} is even and negative\")`: If the number is both even and negative, this line prints a message indicating that.\n",
    "\n",
    "7. `else:`: If the number is even but not negative, this line executes.\n",
    "\n",
    "8. `print(f\"{number} is even and positive\")`: This line prints a message indicating that the number is even and positive.\n",
    "\n",
    "9. `else:`: If the number is not even (i.e., it's odd), this line executes.\n",
    "\n",
    "10. `if number < 0:`: This line checks if the number is negative.\n",
    "\n",
    "11. `print(f\"{number} is odd and negative\")`: If the number is both odd and negative, this line prints a message indicating that.\n",
    "\n",
    "12. `else:`: If the number is odd but not negative, this line executes.\n",
    "\n",
    "13. `print(f\"{number} is odd and positive\")`: This line prints a message indicating that the number is odd and positive."
   ]
  },
  {
   "cell_type": "markdown",
   "id": "87f1d58b-f1a8-4dcb-900e-2e4f242a7cd4",
   "metadata": {},
   "source": [
    "#### Comment Code\n",
    "\n",
    "**APPROACH**:\n",
    "\n",
    "Chatbot input: \"Comment Code\" (paste code snippet)\n",
    "\n",
    "**ChatGPT OUTPUT**:\n",
    "\n",
    "Sure, here's the code commented:\n",
    "\n",
    "```python\n",
    "def numberProps(number):\n",
    "    # Check if the number is zero\n",
    "    if number == 0:\n",
    "        # Print a message indicating that the number is zero\n",
    "        print(f\"{number} is even and neither positive nor negative (it is zero)\")\n",
    "                \n",
    "    # If the number is not zero, check if it's even\n",
    "    elif number % 2 == 0:\n",
    "        # If the number is even, check if it's negative\n",
    "        if number < 0:\n",
    "            # Print a message indicating that the number is even and negative\n",
    "            print(f\"{number} is even and negative\")\n",
    "        else: \n",
    "            # Print a message indicating that the number is even and positive\n",
    "            print(f\"{number} is even and positive\")\n",
    "            \n",
    "    # If the number is not even, it must be odd\n",
    "    else:\n",
    "        # If the number is odd, check if it's negative\n",
    "        if number < 0:\n",
    "            # Print a message indicating that the number is odd and negative\n",
    "            print(f\"{number} is odd and negative\")\n",
    "        else: \n",
    "            # Print a message indicating that the number is odd and positive\n",
    "            print(f\"{number} is odd and positive\")\n",
    "```\n",
    "\n",
    "These comments explain what each part of the code does, making it easier to understand its functionality."
   ]
  },
  {
   "cell_type": "markdown",
   "id": "e93358a1-80d0-4ff0-acce-297e0a71a36d",
   "metadata": {},
   "source": [
    "#### Expanding the Functionality of the Code\n",
    "\n",
    "**APPROACH**:\n",
    "\n",
    "Chatbot input: \"change function to take input of an array and store output in table with columns = input (number from array), positive, negative, zero, even, and odd. For each number in the array, use boolean notation in the results output to say whether the number is positive, negative, zero, even, and/or odd.\"\n",
    "\n",
    "**ChatGPT OUTPUT**:\n",
    "\n",
    "To modify the function to take an array as input and store the output in a table with columns representing the input number, whether it's positive, negative, zero, even, and odd, you can use pandas DataFrame. Here's how you can do it:\n",
    "\n",
    "```python\n",
    "import pandas as pd\n",
    "\n",
    "def numberProps(numbers):\n",
    "    results = []  # Initialize an empty list to store the results\n",
    "    \n",
    "    for number in numbers:\n",
    "        props = {'Number': number}  # Create a dictionary to store properties of the number\n",
    "        \n",
    "        # Determine properties of the number\n",
    "        props['Positive'] = number > 0\n",
    "        props['Negative'] = number < 0\n",
    "        props['Zero'] = number == 0\n",
    "        props['Even'] = number % 2 == 0\n",
    "        props['Odd'] = number % 2 != 0\n",
    "        \n",
    "        results.append(props)  # Append the properties to the results list\n",
    "        \n",
    "    # Convert the results list to a pandas DataFrame\n",
    "    df = pd.DataFrame(results)\n",
    "    \n",
    "    return df\n",
    "\n",
    "# Example usage\n",
    "numbers = [3, -5, 0, 8, -2]\n",
    "output_table = numberProps(numbers)\n",
    "print(output_table)\n",
    "```\n",
    "\n",
    "This will output:\n",
    "\n",
    "```\n",
    "   Number  Positive  Negative   Zero  Even    Odd\n",
    "0       3      True     False  False  False   True\n",
    "1      -5     False      True  False  False   True\n",
    "2       0     False     False   True   True  False\n",
    "3       8      True     False  False   True  False\n",
    "4      -2     False      True  False   True  False\n",
    "```\n",
    "\n",
    "Now, the function `numberProps` takes an array of numbers as input, determines the properties of each number, and stores the results in a pandas DataFrame."
   ]
  },
  {
   "cell_type": "code",
   "execution_count": 5,
   "id": "0bc6a9b4-69bd-455d-ac4c-13fd1b8d8019",
   "metadata": {
    "tags": []
   },
   "outputs": [],
   "source": [
    "# OUTPUT from ChatGPT\n",
    "\n",
    "def numberProps(numbers):\n",
    "    results = []  # Initialize an empty list to store the results\n",
    "    \n",
    "    for number in numbers:\n",
    "        props = {'Number': number}  # Create a dictionary to store properties of the number\n",
    "        \n",
    "        # Determine properties of the number\n",
    "        props['Positive'] = number > 0\n",
    "        props['Negative'] = number < 0\n",
    "        props['Zero'] = number == 0\n",
    "        props['Even'] = number % 2 == 0\n",
    "        props['Odd'] = number % 2 != 0\n",
    "        \n",
    "        results.append(props)  # Append the properties to the results list\n",
    "        \n",
    "    # Convert the results list to a pandas DataFrame\n",
    "    df = pd.DataFrame(results)\n",
    "    \n",
    "    return df"
   ]
  },
  {
   "cell_type": "code",
   "execution_count": 6,
   "id": "9a85b80f-b498-4f6e-bd05-4a6cae62c67b",
   "metadata": {
    "tags": []
   },
   "outputs": [],
   "source": [
    "testNums = np.array([-5, -4, -3, -2, -1, 0, 1, 2, 3, 4, 5])"
   ]
  },
  {
   "cell_type": "code",
   "execution_count": 7,
   "id": "3833a5ca-3569-467a-a71c-91b83657a356",
   "metadata": {
    "tags": []
   },
   "outputs": [
    {
     "data": {
      "text/html": [
       "<div>\n",
       "<style scoped>\n",
       "    .dataframe tbody tr th:only-of-type {\n",
       "        vertical-align: middle;\n",
       "    }\n",
       "\n",
       "    .dataframe tbody tr th {\n",
       "        vertical-align: top;\n",
       "    }\n",
       "\n",
       "    .dataframe thead th {\n",
       "        text-align: right;\n",
       "    }\n",
       "</style>\n",
       "<table border=\"1\" class=\"dataframe\">\n",
       "  <thead>\n",
       "    <tr style=\"text-align: right;\">\n",
       "      <th></th>\n",
       "      <th>Number</th>\n",
       "      <th>Positive</th>\n",
       "      <th>Negative</th>\n",
       "      <th>Zero</th>\n",
       "      <th>Even</th>\n",
       "      <th>Odd</th>\n",
       "    </tr>\n",
       "  </thead>\n",
       "  <tbody>\n",
       "    <tr>\n",
       "      <th>0</th>\n",
       "      <td>-5</td>\n",
       "      <td>False</td>\n",
       "      <td>True</td>\n",
       "      <td>False</td>\n",
       "      <td>False</td>\n",
       "      <td>True</td>\n",
       "    </tr>\n",
       "    <tr>\n",
       "      <th>1</th>\n",
       "      <td>-4</td>\n",
       "      <td>False</td>\n",
       "      <td>True</td>\n",
       "      <td>False</td>\n",
       "      <td>True</td>\n",
       "      <td>False</td>\n",
       "    </tr>\n",
       "    <tr>\n",
       "      <th>2</th>\n",
       "      <td>-3</td>\n",
       "      <td>False</td>\n",
       "      <td>True</td>\n",
       "      <td>False</td>\n",
       "      <td>False</td>\n",
       "      <td>True</td>\n",
       "    </tr>\n",
       "    <tr>\n",
       "      <th>3</th>\n",
       "      <td>-2</td>\n",
       "      <td>False</td>\n",
       "      <td>True</td>\n",
       "      <td>False</td>\n",
       "      <td>True</td>\n",
       "      <td>False</td>\n",
       "    </tr>\n",
       "    <tr>\n",
       "      <th>4</th>\n",
       "      <td>-1</td>\n",
       "      <td>False</td>\n",
       "      <td>True</td>\n",
       "      <td>False</td>\n",
       "      <td>False</td>\n",
       "      <td>True</td>\n",
       "    </tr>\n",
       "    <tr>\n",
       "      <th>5</th>\n",
       "      <td>0</td>\n",
       "      <td>False</td>\n",
       "      <td>False</td>\n",
       "      <td>True</td>\n",
       "      <td>True</td>\n",
       "      <td>False</td>\n",
       "    </tr>\n",
       "    <tr>\n",
       "      <th>6</th>\n",
       "      <td>1</td>\n",
       "      <td>True</td>\n",
       "      <td>False</td>\n",
       "      <td>False</td>\n",
       "      <td>False</td>\n",
       "      <td>True</td>\n",
       "    </tr>\n",
       "    <tr>\n",
       "      <th>7</th>\n",
       "      <td>2</td>\n",
       "      <td>True</td>\n",
       "      <td>False</td>\n",
       "      <td>False</td>\n",
       "      <td>True</td>\n",
       "      <td>False</td>\n",
       "    </tr>\n",
       "    <tr>\n",
       "      <th>8</th>\n",
       "      <td>3</td>\n",
       "      <td>True</td>\n",
       "      <td>False</td>\n",
       "      <td>False</td>\n",
       "      <td>False</td>\n",
       "      <td>True</td>\n",
       "    </tr>\n",
       "    <tr>\n",
       "      <th>9</th>\n",
       "      <td>4</td>\n",
       "      <td>True</td>\n",
       "      <td>False</td>\n",
       "      <td>False</td>\n",
       "      <td>True</td>\n",
       "      <td>False</td>\n",
       "    </tr>\n",
       "    <tr>\n",
       "      <th>10</th>\n",
       "      <td>5</td>\n",
       "      <td>True</td>\n",
       "      <td>False</td>\n",
       "      <td>False</td>\n",
       "      <td>False</td>\n",
       "      <td>True</td>\n",
       "    </tr>\n",
       "  </tbody>\n",
       "</table>\n",
       "</div>"
      ],
      "text/plain": [
       "    Number  Positive  Negative   Zero   Even    Odd\n",
       "0       -5     False      True  False  False   True\n",
       "1       -4     False      True  False   True  False\n",
       "2       -3     False      True  False  False   True\n",
       "3       -2     False      True  False   True  False\n",
       "4       -1     False      True  False  False   True\n",
       "5        0     False     False   True   True  False\n",
       "6        1      True     False  False  False   True\n",
       "7        2      True     False  False   True  False\n",
       "8        3      True     False  False  False   True\n",
       "9        4      True     False  False   True  False\n",
       "10       5      True     False  False  False   True"
      ]
     },
     "execution_count": 7,
     "metadata": {},
     "output_type": "execute_result"
    }
   ],
   "source": [
    "numberProps(testNums)"
   ]
  },
  {
   "cell_type": "markdown",
   "id": "a65ed7cc-ac33-4340-9b6f-76ca6018b822",
   "metadata": {},
   "source": [
    "***"
   ]
  },
  {
   "cell_type": "markdown",
   "id": "ba79a7e3-ff51-49b3-b684-daecd2d9f85f",
   "metadata": {},
   "source": [
    "## <a id = \"convert\"></a>Language Conversion\n",
    "\n",
    "In this workshop, we'll focus on translating MATLAB code into Python. However, these techniques are versatile and can be applied to converting code from various other languages as well. Feel free to utilize your preferred AI chatbot to assist in converting the MATLAB code provided below into Python."
   ]
  },
  {
   "cell_type": "markdown",
   "id": "c1320259-d711-4abe-bdac-4c0dcd7362b3",
   "metadata": {},
   "source": [
    "**MATLAB Code**\n",
    "\n",
    "```\n",
    "x = linspace(0,2*pi,100);\n",
    "y = sin(x);\n",
    "plot(x,y,':')\n",
    "\n",
    "hold on \n",
    "y2 = cos(x);\n",
    "plot(x,y2,'--ro')\n",
    "hold off\n",
    "\n",
    "xlabel('x')\n",
    "ylabel('sin(x)')\n",
    "xlim([0, 6]);\n",
    "ylim([-1, 1]);\n",
    "title('Plot of the Sine Function')\n",
    "```\n",
    "\n",
    "OUTPUT:\n",
    "![matlabDoubleWell](https://raw.githubusercontent.com/KristenScotti//Workshops/main/img/matlabSinePlot.png)"
   ]
  },
  {
   "cell_type": "code",
   "execution_count": 8,
   "id": "f8159519-a222-441a-bd96-fa3542e51a36",
   "metadata": {
    "tags": []
   },
   "outputs": [
    {
     "data": {
      "image/png": "[encoded data removed]",
      "text/plain": [
       "<Figure size 432x288 with 1 Axes>"
      ]
     },
     "metadata": {
      "needs_background": "light"
     },
     "output_type": "display_data"
    }
   ],
   "source": [
    "# Define the range of x values\n",
    "x = np.linspace(0, 2 * np.pi, 100)\n",
    "\n",
    "# Calculate y values for sine function\n",
    "y = np.sin(x)\n",
    "\n",
    "# Plot the sine function\n",
    "plt.plot(x, y, ':', label='sin(x)')\n",
    "\n",
    "# Plot the cosine function on the same plot with red markers as empty circles\n",
    "y2 = np.cos(x)\n",
    "plt.plot(x, y2, '--', color='red', marker='o', fillstyle='none', label='cos(x)')\n",
    "\n",
    "# Add labels and limits\n",
    "plt.xlabel('x')\n",
    "plt.ylabel('y')\n",
    "plt.xlim([0, 2 * np.pi])\n",
    "plt.ylim([-1, 1])\n",
    "plt.title('Plot of the Sine and Cosine Functions')\n",
    "\n",
    "# Add legend\n",
    "plt.legend()\n",
    "\n",
    "# Show the plot\n",
    "plt.show()"
   ]
  },
  {
   "cell_type": "markdown",
   "id": "fde03f8a-8b2e-4ff7-9976-2ead8993d2f1",
   "metadata": {},
   "source": [
    "***"
   ]
  },
  {
   "cell_type": "markdown",
   "id": "07d6c75c-ee05-4186-bc4c-78a24b2f5d25",
   "metadata": {},
   "source": [
    "## <a id = \"program\"></a>Programming Assistant\n",
    "\n",
    "* write new code\n",
    "* debugging\n",
    "* optimizing code\n",
    "\n",
    "find common tangent of double-well function\\\n",
    "Specifically, analyze the phase behavior of a binary mixture using Flory-Huggins theory by determining equilibrium volume fractions and finding the common tangent of the free energy curve.\n",
    "\n",
    "MATLAB CODE: \n",
    "```\n",
    "% Define parameters for the calculation\n",
    "na = 150;\n",
    "nb = 125;\n",
    "chi = 0.02;\n",
    "\n",
    "% Create an array 'phi' for volume fractions ranging from 0.001 to 0.999 with 1000 evenly spaced points\n",
    "phi = linspace(0.001, 0.999, 1000); \n",
    "\n",
    "% Free energy of mixing function\n",
    "% function fv(phi) calculates the free energy of mixing as a function of the volume fraction phi\n",
    "fv = @(phi) phi.*log(phi)/nb + (1-phi).*log(1-phi)/na + chi.*phi.*(1-phi);\n",
    "\n",
    "% Chemical potentials of components A and B\n",
    "% function mua(phi) calculates the chemical potential of component A as a function of volume fraction phi\n",
    "% function mub(phi) calculates the chemical potential of component B as a function of volume fraction phi\n",
    "mua = @(phi) log(1-phi) + phi*(1-na/nb) + chi*na*phi.^2; \n",
    "mub = @(phi) log(phi) + (1-phi)*(1-nb/na) + chi*nb*(1-phi)^2;\n",
    "\n",
    "% Function to solve for common tangent\n",
    "% function ftosolve(phi) computes the difference in chemical potentials between two volume fractions, representing the equation of the common tangent\n",
    "ftosolve = @(phi) [mua(phi(1))-mua(phi(2)); mub(phi(1))-mub(phi(2))];\n",
    "\n",
    "% Define an 'initial guess' for the equilibrium volume fractions as an array\n",
    "phiguess = [0.2; 0.8];\n",
    "\n",
    "% Use the 'fsolve' function to find the equilibrium volume fractions by solving the system of equations defined by ftosolve\n",
    "[phicalc, ~] = fsolve(ftosolve, phiguess);\n",
    "\n",
    "% Calculate and plot the tangent line\n",
    "% Calculate the slope of the tangent line at the equilibrium points:\n",
    "slope = (fv(phicalc(2))-fv(phicalc(1)))/(phicalc(2)-phicalc(1));\n",
    "\n",
    "% Calculate the equation of the tangent line\n",
    "tangentline = fv(phicalc(1)) + slope * (phi - phicalc(1));\n",
    "\n",
    "% Plot free energy function and the tangent line\n",
    "plot(phi, fv(phi), 'LineWidth', 2);\n",
    "hold on; % put hold on current plot to allow subsequent plots to be added to it\n",
    "plot(phi, tangentline, 'r', 'LineWidth', 2);\n",
    "hold off; % end hold on current plot\n",
    "\n",
    "% Set line width to 2\n",
    "xlabel('\\phi_{b}');\n",
    "ylabel('G_{v}V_{0}/RT');\n",
    "legend('Free Energy', 'Common Tangent');\n",
    "\n",
    "% Print equation of the common tangent\n",
    "disp('Equation for the common tangent:');\n",
    "disp(['G_{v}V_{0}/RT = ' num2str(slope) ' * (\\phi_{b} - ' num2str(phicalc(1)) ') + ' num2str(fv(phicalc(1)))]);\n",
    "```\n",
    "\n",
    "OUTPUT:\\\n",
    "![matlabDoubleWell](https://raw.githubusercontent.com/KristenScotti//Workshops/main/img/matlabDoubleWell.PNG)"
   ]
  },
  {
   "cell_type": "code",
   "execution_count": 9,
   "id": "abf4d6a7-dd27-4766-995c-3643f26bd92f",
   "metadata": {
    "tags": []
   },
   "outputs": [
    {
     "data": {
      "image/png": "[encoded data removed]",
      "text/plain": [
       "<Figure size 432x288 with 1 Axes>"
      ]
     },
     "metadata": {
      "needs_background": "light"
     },
     "output_type": "display_data"
    },
    {
     "name": "stdout",
     "output_type": "stream",
     "text": [
      "Equation for the common tangent:\n",
      "G_v V_0 / RT = 0.000228605 * (ϕ_b - 0.114554295) + -0.000675192\n"
     ]
    }
   ],
   "source": [
    "# Import the fsolve function from the scipy.optimize module --> used for solving systems of equations\n",
    "from scipy.optimize import fsolve \n",
    "\n",
    "# Define parameters for the calculation\n",
    "na = 150\n",
    "nb = 125\n",
    "chi = 0.02\n",
    "\n",
    "# Create an array 'phi' for volume fractions ranging from 0.001 to 0.999 with 1000 evenly spaced points\n",
    "phi = np.linspace(0.001, 0.999, 1000)\n",
    "\n",
    "# Free energy of mixing function\n",
    "# function fv(phi) calculates the free energy of mixing as a function of the volume fraction phi\n",
    "def fv(phi):\n",
    "    return phi*np.log(phi)/nb + (1-phi)*np.log(1-phi)/na + chi*phi*(1-phi)\n",
    "\n",
    "# Chemical potentials of components A and B\n",
    "# function mu(phi)  calculates the chemical potentials of components A and B as a function of volume fraction phi\n",
    "def mu(phi, log_func=np.log): \n",
    "    return np.array([log_func(1-phi) + phi*(1-na/nb) + chi*na*phi**2,\n",
    "                     log_func(phi) + (1-phi)*(1-nb/na) + chi*nb*(1-phi)**2])\n",
    "\n",
    "# Function to solve for common tangent \n",
    "# function ftosolve(phi) finds the common tangent between the free energy curve and the tangent line\n",
    "def ftosolve(phi):\n",
    "    return mu(phi[0], np.log) - mu(phi[1], np.log) \n",
    "\n",
    "# Find equilibrium volume fractions\n",
    "# Define an initial guess for the equilibrium volume fractions as an array\n",
    "phiguess = np.array([0.15, 0.85])\n",
    "# Use fsolve  to find the equilibrium volume fractions by solving the system of equations defined by ftosolve\n",
    "phicalc = fsolve(ftosolve, phiguess)\n",
    "\n",
    "# Calculate and plot the common tangent\n",
    "# Calculate the slope of the tangent line at the equilibrium points\n",
    "slope = (fv(phicalc[1]) - fv(phicalc[0])) / (phicalc[1] - phicalc[0])\n",
    "\n",
    "# Calculate the equation of the tangent line\n",
    "tangentline = fv(phicalc[0]) + slope * (phi - phicalc[0])\n",
    "\n",
    "# Plot the common tangent \n",
    "plt.plot(phi, tangentline, 'r--', label='Common Tangent')\n",
    "\n",
    "# Plot free energy function\n",
    "plt.plot(phi, fv(phi), 'b-', label='Free Energy')\n",
    "plt.xlabel('$\\phi_b$')\n",
    "plt.ylabel('$G_v V_0 / RT$')\n",
    "\n",
    "# Annotate equilibrium points\n",
    "plt.plot(phicalc, fv(phicalc), 'ko')\n",
    "for i, p in enumerate(phicalc):\n",
    "    plt.annotate(f'\\u03D5_b = {p:.3f}', (p, fv(p)), xytext=(5, -5), textcoords='offset points')\n",
    "\n",
    "plt.legend()\n",
    "plt.show()\n",
    "\n",
    "# Print equation of the common tangent\n",
    "print('Equation for the common tangent:')\n",
    "print(f'G_v V_0 / RT = {slope:.9f} * (\\u03D5_b - {phicalc[0]:.9f}) + {fv(phicalc[0]):.9f}')"
   ]
  },
  {
   "cell_type": "markdown",
   "id": "114ebe7a-3e93-4c9a-8d65-b5d3a363e8cb",
   "metadata": {},
   "source": [
    "Difference in \"initial guess\"\n",
    "\n",
    "The difference in behavior between the MATLAB and Python code lies in how each environment handles the solving of the system of equations defined by ftosolve.\n",
    "\n",
    "In MATLAB, the fsolve function is used to find the equilibrium volume fractions. This function is capable of finding the roots of a system of equations numerically. MATLAB's fsolve might be more robust in finding the correct roots even with slightly different initial guesses.\n",
    "\n",
    "However, in Python, the fsolve function from scipy.optimize is used. While it performs a similar function to MATLAB's fsolve, it might behave differently in certain situations, especially when dealing with non-linear equations and depending on the initial guesses.\n",
    "\n",
    "In this case, it seems that MATLAB's fsolve is more forgiving with the initial guesses [0.2; 0.8], while Python's fsolve requires a more accurate initial guess such as np.array([0.1, 0.9]) to converge to the correct solution.\n",
    "\n",
    "To address this difference, you may need to adjust the initial guess in your Python code to ensure that it converges to the correct solution. Alternatively, you could try different solvers or algorithms available in scipy.optimize to see if they provide better convergence behavior with different initial guesses."
   ]
  },
  {
   "cell_type": "markdown",
   "id": "08bc8d5e-4fa4-48e5-aeb3-f5692780b5ae",
   "metadata": {},
   "source": [
    "***"
   ]
  },
  {
   "cell_type": "markdown",
   "id": "ff058b12-2ce4-4bb8-bf02-7ff2167c666b",
   "metadata": {},
   "source": [
    "## <a id = \"optimize\"></a>Code Optimization"
   ]
  },
  {
   "cell_type": "code",
   "execution_count": 10,
   "id": "f2930472-d632-415a-8ff2-acefd6ec966f",
   "metadata": {
    "tags": []
   },
   "outputs": [
    {
     "name": "stdout",
     "output_type": "stream",
     "text": [
      "29 is a prime number.\n"
     ]
    }
   ],
   "source": [
    "def is_prime(number):\n",
    "    if number <= 1:\n",
    "        return False\n",
    "    elif number <= 3:\n",
    "        return True\n",
    "    elif number % 2 == 0 or number % 3 == 0:\n",
    "        return False\n",
    "    else:\n",
    "        i = 5\n",
    "        while i * i <= number:\n",
    "            if number % i == 0 or number % (i + 2) == 0:\n",
    "                return False\n",
    "            i += 6\n",
    "        return True\n",
    "\n",
    "number = 29\n",
    "if is_prime(number):\n",
    "    print(number, \"is a prime number.\")\n",
    "else:\n",
    "    print(number, \"is not a prime number.\")"
   ]
  },
  {
   "cell_type": "code",
   "execution_count": 11,
   "id": "c56becf0-1c02-4816-9b45-98e954f85c58",
   "metadata": {
    "tags": []
   },
   "outputs": [
    {
     "data": {
      "text/plain": [
       "True"
      ]
     },
     "execution_count": 11,
     "metadata": {},
     "output_type": "execute_result"
    }
   ],
   "source": [
    "is_prime(2)"
   ]
  },
  {
   "cell_type": "markdown",
   "id": "d5dc2d93-b6c2-422f-955b-97f0b23c1367",
   "metadata": {},
   "source": [
    "Gemini output:"
   ]
  },
  {
   "cell_type": "code",
   "execution_count": 12,
   "id": "edf03327-8e02-4891-84c3-1f3c754709e6",
   "metadata": {
    "tags": []
   },
   "outputs": [
    {
     "name": "stdout",
     "output_type": "stream",
     "text": [
      "29 is a prime number.\n"
     ]
    }
   ],
   "source": [
    "def is_primeOptimized(number):\n",
    "    \"\"\"Optimized function to efficiently determine if a number is prime.\"\"\"\n",
    "\n",
    "    if number <= 1:\n",
    "        return False\n",
    "    if number <= 3:\n",
    "        return True\n",
    "    if number % 2 == 0 or number % 3 == 0:\n",
    "        return False\n",
    "\n",
    "    # Optimized loop: check divisibility by 6k ± 1 only\n",
    "    i = 5\n",
    "    while i * i <= number:\n",
    "        if number % i == 0 or number % (i + 2) == 0:\n",
    "            return False\n",
    "        i += 6\n",
    "\n",
    "    return True\n",
    "\n",
    "number = 29\n",
    "if is_prime(number):\n",
    "    print(number, \"is a prime number.\")\n",
    "else:\n",
    "    print(number, \"is not a prime number.\")"
   ]
  },
  {
   "cell_type": "markdown",
   "id": "f257fd45-cde8-4ce2-8873-9f59818bb13b",
   "metadata": {},
   "source": [
    "Explanation of Optimizations:\n",
    "\n",
    "Early Termination: The code checks for divisibility by 2 and 3 first, eliminating even and multiples of 3 immediately, reducing unnecessary iterations in the loop.\n",
    "Efficient Loop: The loop iterates only by adding 6, ensuring that all potential divisors are checked:\n",
    "By checking number % i == 0, the code ensures no even divisors are missed (since i is always odd).\n",
    "By checking number % (i + 2) == 0, it covers all potential divisors that are one less than a multiple of 6 (like 5, 11, 17, etc.). This is because if number is divisible by a number that is one less than a multiple of 6, it must also be divisible by that multiple of 6 (e.g., if number is divisible by 11, it must also be divisible by 12).\n",
    "Additional Considerations:\n",
    "\n",
    "Sieve of Eratosthenes: If you're dealing with much larger ranges of numbers, consider using the Sieve of Eratosthenes algorithm, which can be more efficient for finding primes within a specific range.\n",
    "Primality Testing Libraries: Depending on your specific programming language and context, you might also explore using existing libraries for primality testing, which may have been optimized and thoroughly tested for efficiency.\n",
    "By incorporating these optimizations, the code is significantly more efficient in determining prime numbers, especially for larger numbers."
   ]
  },
  {
   "cell_type": "markdown",
   "id": "b057ec8e-4f94-4ac5-b827-8067da821987",
   "metadata": {},
   "source": [
    "Is it better?"
   ]
  },
  {
   "cell_type": "code",
   "execution_count": 13,
   "id": "5fafd7e5-6390-4fcd-89d1-4dd4fdc13c0e",
   "metadata": {
    "tags": []
   },
   "outputs": [],
   "source": [
    "originalFun = is_prime\n",
    "optimizedFun = is_primeOptimized\n",
    "numTest = 7"
   ]
  },
  {
   "cell_type": "code",
   "execution_count": 14,
   "id": "71085efa-498e-4c61-bc69-38ddee8a2ce0",
   "metadata": {
    "tags": []
   },
   "outputs": [
    {
     "name": "stdout",
     "output_type": "stream",
     "text": [
      "Original time: 0.2573 seconds\n",
      "Optimized time: 0.2195 seconds\n"
     ]
    }
   ],
   "source": [
    "import timeit\n",
    "\n",
    "# Measure execution time of original function\n",
    "time_originalFun = timeit.timeit(lambda: originalFun(numTest))\n",
    "\n",
    "# Measure execution time of optimized\n",
    "time_optimizedFun = timeit.timeit(lambda: optimizedFun(numTest))\n",
    "\n",
    "# Compare and print results\n",
    "print(f\"Original time: {time_originalFun:.4f} seconds\")\n",
    "print(f\"Optimized time: {time_optimizedFun:.4f} seconds\")"
   ]
  },
  {
   "cell_type": "code",
   "execution_count": null,
   "id": "d59b9522",
   "metadata": {},
   "outputs": [],
   "source": []
  },
  {
   "cell_type": "code",
   "execution_count": null,
   "id": "b3e25a46",
   "metadata": {},
   "outputs": [],
   "source": []
  }
 ],
 "metadata": {
  "kernelspec": {
   "display_name": "Python 3 (ipykernel)",
   "language": "python",
   "name": "python3"
  },
  "language_info": {
   "codemirror_mode": {
    "name": "ipython",
    "version": 3
   },
   "file_extension": ".py",
   "mimetype": "text/x-python",
   "name": "python",
   "nbconvert_exporter": "python",
   "pygments_lexer": "ipython3",
   "version": "3.9.12"
  }
 },
 "nbformat": 4,
 "nbformat_minor": 5
}
