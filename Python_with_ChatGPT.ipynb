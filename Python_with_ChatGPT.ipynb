{
 "cells": [
  {
   "cell_type": "markdown",
   "id": "d4c01cd9-6c9a-4cf6-bc72-be97405033cc",
   "metadata": {},
   "source": [
    "# Python for All: Democratizing Coding Mastery with AI Chatbot Support"
   ]
  },
  {
   "cell_type": "markdown",
   "id": "dd8ccffd-92a9-497c-a9c4-9656d063291d",
   "metadata": {},
   "source": [
    "## <a id = \"contents\"></a>Contents\n",
    "* <a href='#summary'>Workshop Summary</a>\n",
    "    - <a href='#presenters'>Presenters</a> \n",
    "    - <a href='#objectives'>Learning Objectives</a> \n",
    "    - <a href='#knowledge'>Assumed Knowledge</a> \n",
    "* <a href='#intro'>Introduction</a>\n",
    "* <a href ='#prompt'>Prompt Engineering</a>\n",
    "* <a href ='#breakdown'>Breaking Down Complex Problems</a>\n",
    "* <a href='#optimize'>Code Optimization</a>\n",
    "* <a href='#convert'>EXTRA: Language Conversion</a>"
   ]
  },
  {
   "cell_type": "markdown",
   "id": "b05cad2b-d746-459d-90f3-9bf7e1ea6a2b",
   "metadata": {},
   "source": [
    "***"
   ]
  },
  {
   "cell_type": "markdown",
   "id": "963c3db6-230c-4f20-a146-56d9c5e038e2",
   "metadata": {},
   "source": [
    "## <a id = \"summary\"></a>Workshop Summary\n",
    "\n",
    "We will utilize AI chatbots like ChatGPT, Bard, and Co-pilot to support the process of learning to code. Using Python as our teaching tool, participants will acquire skills that are transferable to other programming languages. We will explore how AI chatbots can be invaluable resources for understanding, writing, and refining code, as well as for facilitating transitions between different coding languages.\n",
    "\n",
    "### <a id = \"presenters\"></a>Instructors\n",
    "\n",
    "Kristen Scotti\\\n",
    "Open Science Postdoc\\\n",
    "Office: 4416, Sorrells Library  \\\n",
    "[kscotti@andrew.cmu.edu](mailto:kscotti@andrew.cmu.edu) \n",
    "\n",
    "Lencia Beltran\\\n",
    "Open Science Program Coordinator\\\n",
    "[lbeltran@andrew.cmu.edu](mailto:venkatas@andrew.cmu.edu)\n",
    "\n",
    "\n",
    "### <a id = \"objectives\"></a>Learning Objectives\n",
    "\n",
    "Workshop attendees will:\n",
    "1. *AI Fundamentals*: Understand key concepts and terminology related to generative AI.\n",
    "2. *Practical Application*: Use generative AI as a programming assistant to enhance coding efficiency, troubleshoot errors, and tackle projects with greater confidence.\n",
    "3. *Critical Evaluation*: Develop the ability to assess the accuracy, reliability, and usefulness of AI-generated code and solutions.\n",
    "4. *Ethical and Practical Evaluation*: Examine the ethical implications of generative AI, recognizing its strengths, weaknesses, biases, limitations, and potential for misuse.\n",
    "5. *Adaptability and Continuous Learning*: Cultivate skills to continuously adapt to advancements in AI technology.\n",
    "\n",
    "\n",
    "### <a id = \"knowledge\"></a>Assumed Knowledge\n",
    "\n",
    "Attendees are assumed to have some familiarity with coding concepts and structures, although it is not required. This workshop will not cover foundational Python skills, so basic knowledge of general programming principles is beneficial. Instead, we will focus on leveraging AI chatbots like ChatGPT to enhance coding proficiency in Python. Participants will learn to use these tools to interpret and craft code, troubleshoot errors, and facilitate transitions between coding languages. The Libraries offers a number of [workshops](https://cmu.libcal.com/calendar/events/?cid=9148&t=d&d=0000-00-00&cal=9148&inc=0) for building foundational Python skills.\n"
   ]
  },
  {
   "cell_type": "markdown",
   "id": "8751358a-4ed7-49a1-8d2b-6e32f30a2899",
   "metadata": {},
   "source": [
    "***"
   ]
  },
  {
   "cell_type": "markdown",
   "id": "08bbcccb-18ec-43a8-9f2b-9028f365d248",
   "metadata": {},
   "source": [
    "## <a id = \"intro\"></a>Introduction\n",
    "\n",
    "### Generative AI Chatbots\n",
    "\n",
    "* General purpose:\n",
    "    - <a href = \"https://chat.openai.com/\" target = \"_blank\">ChatGPT</a> (OpenAI)\n",
    "* More code-focused (training data is specifically curated towards code understanding, completion, and problem-solving):\n",
    "    - <a href = \"https://gemini.google.com/app\" target = \"_blank\">Gemini</a> (Google)\n",
    "    - <a href = \"https://copilot.microsoft.com/\" target = \"_blank\">Copilot</a> (GitHub and OpenAI)\n",
    "\n",
    "### Library Imports"
   ]
  },
  {
   "cell_type": "code",
   "execution_count": 27,
   "id": "ea142ce0",
   "metadata": {},
   "outputs": [],
   "source": [
    "!pip install numpy\n",
    "!pip install pandas\n",
    "!pip install matplotlib\n",
    "!pip install scipy"
   ]
  },
  {
   "cell_type": "code",
   "execution_count": 17,
   "id": "ecf453ba",
   "metadata": {},
   "outputs": [],
   "source": [
    "import numpy as np # import NumPy library and alias it as np\n",
    "import pandas as pd\n",
    "import matplotlib.pyplot as plt # import the Matplotlib's pyplot (plotting) module and alias it as plt"
   ]
  },
  {
   "cell_type": "markdown",
   "id": "d1e91fb7-4cd3-4f9f-8c50-3ccd3bab7e1b",
   "metadata": {},
   "source": [
    "***"
   ]
  },
  {
   "cell_type": "markdown",
   "id": "8426a396-4a08-4432-96ae-123fbae50ba8",
   "metadata": {},
   "source": [
    "## <a id = \"prompt\"></a>Prompt Engineering"
   ]
  },
  {
   "cell_type": "markdown",
   "id": "794a8d9a-707d-45b7-ab8d-f10bbab74fc7",
   "metadata": {},
   "source": [
    "### Warm-up: Let’s use a chatbot to help us understand Python syntax\n",
    "\n",
    "Ask your favorite AI chatbot to give you a table showing common syntax elements\n",
    "\n",
    "Example Prompt: \n",
    "Create a markdown table outlining the key syntax elements in Python. Include variables, conditionals, loops, functions, classes, imports, exception handling, Boolean operators, math operators, comparison operators, and comprehensions."
   ]
  },
  {
   "cell_type": "markdown",
   "id": "342d54b6-bce5-40f1-bfe4-2dc4bee4b1e6",
   "metadata": {},
   "source": [
    "ChatGPT Output:\n",
    "\n",
    "| Syntax          | Example                                 |\n",
    "|-----------------|-----------------------------------------|\n",
    "| Variables       | `x = 5`                                 |\n",
    "| Conditionals    | `if x > 0:`                             |\n",
    "| Loops           | `for item in list:`                     |\n",
    "| Functions       | `def my_function(param):`               |\n",
    "| Classes         | `class MyClass:`                        |\n",
    "| Imports         | `import module`                         |\n",
    "| Exception Handling | `try:`<br>`except Exception as e:`   |\n",
    "| Boolean Operators | `and`, `or`, `not`                     |\n",
    "| Math Operators  | `+`, `-`, `*`, `/`, `**`, `%`, `//`    |\n",
    "| Comparison Operators | `==`, `!=`, `>`, `<`, `>=`, `<=`    |\n",
    "| Comprehensions  | `[x for x in iterable]`                 |\n"
   ]
  },
  {
   "cell_type": "markdown",
   "id": "c9a9ce65-ab23-4ffa-a525-b55b0f86c3f8",
   "metadata": {},
   "source": [
    "### Exercise: Ask an AI chatbot to generate Python code for creating a plot that shows the relationship between two variables"
   ]
  },
  {
   "cell_type": "markdown",
   "id": "e606676f-c227-4b86-8231-ff9c0d38acec",
   "metadata": {},
   "source": [
    "**Prompt engineering** is the process of designing and refining input queries to optimize the output responses from generative AI models.\n",
    "\n",
    "Here are the data we want to plot: x = [1, 2, 3, 4, 5], y = [2, 4, 6, 8, 10] \n",
    "\n",
    "What information should we include in our **prompt**? "
   ]
  },
  {
   "cell_type": "code",
   "execution_count": 19,
   "id": "af0f9753-fc9c-4dab-9db8-17c6acdb2858",
   "metadata": {},
   "outputs": [],
   "source": [
    "# PASTE CHATBOT OUTPUT IN THIS CELL AND RUN"
   ]
  },
  {
   "cell_type": "markdown",
   "id": "28521810-4d1e-4f3a-a1ab-4f843ad76f6d",
   "metadata": {},
   "source": [
    "***"
   ]
  },
  {
   "cell_type": "markdown",
   "id": "565f6c8d-3f34-4ac6-a2ec-d979b6a28cc5",
   "metadata": {},
   "source": [
    "## <a id = \"breakdown\"></a>Breaking Down Complex Problems"
   ]
  },
  {
   "cell_type": "markdown",
   "id": "e2eb10e0-ae18-4260-a121-371cdfca8b0e",
   "metadata": {},
   "source": [
    "### Exercise: Build a number guessing game where the computer randomly selects a number, and the user tries to guess it."
   ]
  },
  {
   "cell_type": "markdown",
   "id": "a3984d54-899b-41dc-bb8b-eab3013b725f",
   "metadata": {},
   "source": [
    "Let's breakdown the problem into tasks\n",
    "* Task 1: Generate a random number\n",
    "* Task 2:\n",
    "* Task 3..."
   ]
  },
  {
   "cell_type": "code",
   "execution_count": 20,
   "id": "5fd99785-16b0-42de-9704-dad864117be2",
   "metadata": {},
   "outputs": [],
   "source": [
    "# Task 1"
   ]
  },
  {
   "cell_type": "code",
   "execution_count": 21,
   "id": "bd3931bb-62a6-454d-a6aa-cc1033ed57e6",
   "metadata": {},
   "outputs": [],
   "source": [
    "# Task 2"
   ]
  },
  {
   "cell_type": "code",
   "execution_count": 22,
   "id": "52e7eca9-a727-4811-b949-c68602a71eb3",
   "metadata": {},
   "outputs": [],
   "source": [
    "# Task 3"
   ]
  },
  {
   "cell_type": "code",
   "execution_count": 23,
   "id": "9f101303-6415-490c-ad0c-ba7aa57efdff",
   "metadata": {},
   "outputs": [],
   "source": [
    "# Task 4"
   ]
  },
  {
   "cell_type": "code",
   "execution_count": 24,
   "id": "77a4d5fc-0656-4d31-9d8e-611305a4145e",
   "metadata": {},
   "outputs": [],
   "source": [
    "# Combine all previously implemented functions into one complete game:\n"
   ]
  },
  {
   "cell_type": "markdown",
   "id": "a65ed7cc-ac33-4340-9b6f-76ca6018b822",
   "metadata": {},
   "source": [
    "***"
   ]
  },
  {
   "cell_type": "markdown",
   "id": "ff058b12-2ce4-4bb8-bf02-7ff2167c666b",
   "metadata": {},
   "source": [
    "## <a id = \"optimize\"></a>Code Optimization"
   ]
  },
  {
   "cell_type": "markdown",
   "id": "e1ff9470-5adc-4fd1-aaa2-de189408dc7b",
   "metadata": {},
   "source": [
    "Below is a function that finds the sum of all prime numbers below a given number. Run the code to verify that it works; then, ask your favorite chatbot to opimtize the code."
   ]
  },
  {
   "cell_type": "code",
   "execution_count": 11,
   "id": "f2930472-d632-415a-8ff2-acefd6ec966f",
   "metadata": {
    "tags": []
   },
   "outputs": [
    {
     "name": "stdout",
     "output_type": "stream",
     "text": [
      "The sum of all primes below 10000 is: 5736396\n"
     ]
    }
   ],
   "source": [
    "def sum_of_primes(n):\n",
    "    total = 0\n",
    "    for num in range(2, n):\n",
    "        if all(num % i != 0 for i in range(2, int(num ** 0.5) + 1)):\n",
    "            total += num\n",
    "    return total\n",
    "\n",
    "# Test the function\n",
    "n = 10000\n",
    "result = sum_of_primes(n)\n",
    "print(f\"The sum of all primes below {n} is: {result}\")"
   ]
  },
  {
   "cell_type": "code",
   "execution_count": 25,
   "id": "edf03327-8e02-4891-84c3-1f3c754709e6",
   "metadata": {
    "tags": []
   },
   "outputs": [],
   "source": [
    "# Paste optimized function here and run cell\n"
   ]
  },
  {
   "cell_type": "markdown",
   "id": "458d3d1b-8568-4a4b-a24f-ed8e8787931c",
   "metadata": {},
   "source": [
    "### Is our optimized function better?"
   ]
  },
  {
   "cell_type": "code",
   "execution_count": 26,
   "id": "fbbf359d-6223-4745-93c5-fcb39d39e68b",
   "metadata": {},
   "outputs": [],
   "source": [
    "# Use this cell to compare performance of the original and optimized function\n",
    "\n"
   ]
  },
  {
   "cell_type": "code",
   "execution_count": null,
   "id": "5a85768b-e87c-4bda-b980-6827835d9145",
   "metadata": {},
   "outputs": [],
   "source": []
  },
  {
   "cell_type": "markdown",
   "id": "b3de8821-7623-4b7b-8be2-f36d846e8b11",
   "metadata": {},
   "source": [
    "***"
   ]
  },
  {
   "cell_type": "markdown",
   "id": "c1320259-d711-4abe-bdac-4c0dcd7362b3",
   "metadata": {},
   "source": [
    "** Additional exercise if time allows **\n",
    "\n",
    "## <a id = \"convert\"></a>Language Conversion\n",
    "\n",
    "In this workshop, we'll focus on translating MATLAB code into Python. However, these techniques are versatile and can be applied to converting code from various other languages as well. Feel free to utilize your preferred AI chatbot to assist in converting the MATLAB code provided below into Python.\n",
    "\n",
    "**MATLAB Code**\n",
    "\n",
    "```\n",
    "x = linspace(0,2*pi,100);\n",
    "y = sin(x);\n",
    "plot(x,y,':')\n",
    "\n",
    "hold on \n",
    "y2 = cos(x);\n",
    "plot(x,y2,'--ro')\n",
    "hold off\n",
    "\n",
    "xlabel('x')\n",
    "ylabel('sin(x)')\n",
    "xlim([0, 6]);\n",
    "ylim([-1, 1]);\n",
    "title('Plot of the Sine Function')\n",
    "```\n",
    "\n",
    "OUTPUT:\n",
    "![matlabDoubleWell](https://raw.githubusercontent.com/KristenScotti//Workshops/main/img/matlabSinePlot.png)"
   ]
  },
  {
   "cell_type": "code",
   "execution_count": 28,
   "id": "f8159519-a222-441a-bd96-fa3542e51a36",
   "metadata": {
    "tags": []
   },
   "outputs": [],
   "source": [
    "# Paste output here & run\n"
   ]
  }
 ],
 "metadata": {
  "kernelspec": {
   "display_name": "Python 3 (ipykernel)",
   "language": "python",
   "name": "python3"
  },
  "language_info": {
   "codemirror_mode": {
    "name": "ipython",
    "version": 3
   },
   "file_extension": ".py",
   "mimetype": "text/x-python",
   "name": "python",
   "nbconvert_exporter": "python",
   "pygments_lexer": "ipython3",
   "version": "3.11.7"
  }
 },
 "nbformat": 4,
 "nbformat_minor": 5
}
